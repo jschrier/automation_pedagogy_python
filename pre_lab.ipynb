{
 "cells": [
  {
   "attachments": {},
   "cell_type": "markdown",
   "metadata": {},
   "source": [
    "# Pre-lab Exercise:  Precipitation Determination"
   ]
  },
  {
   "attachments": {},
   "cell_type": "markdown",
   "metadata": {},
   "source": [
    "## Learning Goals\n",
    "- Apply knowledge of solution mixing and equilibria typical in a first-year college curricula\n",
    "- Introduce ideas about error and precision\n",
    "- Introduce laboratory automation (for synthesis and characterization) and learn where this is an appropriate strategy\n",
    "- Develop basic computer and data handling skills"
   ]
  },
  {
   "attachments": {},
   "cell_type": "markdown",
   "metadata": {},
   "source": [
    "## Lab Objectives\n",
    "- Introduce programming in Python\n",
    "- Introduce  concentration space diagrams (*J. Chem. Educ.*  **98**, 1659-1666 (2021) https://pubs.acs.org/doi/10.1021/acs.jchemed.0c01456 for solution mixing and equilibrium problems\n",
    "- Generate an experiment plan\n",
    "- Conduct it in the laboratory by manual pipetting and automated liquid handlers/dispensers\n",
    "- Analyze the experimental data using logistic regression"
   ]
  },
  {
   "cell_type": "markdown",
   "metadata": {},
   "source": [
    "## Installation Instructions\n",
    "- Install [Conda](https://conda.io/projects/conda/en/latest/user-guide/install/index.html)\n",
    "- In your command line type \"conda create chemistry-env\"\n",
    "- Type \"conda activate chemistry-env\"\n",
    "- Type \"jupyter notebook\" and open this file"
   ]
  },
  {
   "attachments": {},
   "cell_type": "markdown",
   "metadata": {},
   "source": [
    "## Python Basics"
   ]
  },
  {
   "attachments": {},
   "cell_type": "markdown",
   "metadata": {},
   "source": [
    "### Variables"
   ]
  },
  {
   "attachments": {},
   "cell_type": "markdown",
   "metadata": {},
   "source": [
    "**Variables** are reserved memory locations that store values.  Think of variables like a container that hold data which can be changed later in the program. For example to create a variable named `number` and assign its value as `100`:"
   ]
  },
  {
   "cell_type": "code",
   "execution_count": 1,
   "metadata": {},
   "outputs": [
    {
     "data": {
      "text/plain": [
       "100"
      ]
     },
     "execution_count": 1,
     "metadata": {},
     "output_type": "execute_result"
    }
   ],
   "source": [
    "number = 100\n",
    "print(number)"
   ]
  },
  {
   "attachments": {},
   "cell_type": "markdown",
   "metadata": {},
   "source": [
    "This variable can be modified at any time"
   ]
  },
  {
   "cell_type": "code",
   "execution_count": 2,
   "metadata": {},
   "outputs": [
    {
     "name": "stdout",
     "output_type": "stream",
     "text": [
      "99\n",
      "1\n"
     ]
    }
   ],
   "source": [
    "number = 99\n",
    "print(number)\n",
    "\n",
    "number = 1\n",
    "print(number)"
   ]
  },
  {
   "attachments": {},
   "cell_type": "markdown",
   "metadata": {},
   "source": [
    "Variables can be used to perform arithmetic operations:"
   ]
  },
  {
   "cell_type": "code",
   "execution_count": 3,
   "metadata": {},
   "outputs": [
    {
     "data": {
      "text/plain": [
       "6"
      ]
     },
     "execution_count": 3,
     "metadata": {},
     "output_type": "execute_result"
    }
   ],
   "source": [
    "number + 5 * number"
   ]
  },
  {
   "attachments": {},
   "cell_type": "markdown",
   "metadata": {},
   "source": [
    "In general, valid variable names begin with an alphabetical character and do not contain special symbols such as spaces or hyphens; it is generally a good idea to start them with lowercase letters to avoid conflicting with built-in classes in Python."
   ]
  },
  {
   "attachments": {},
   "cell_type": "markdown",
   "metadata": {},
   "source": [
    "**TRY IT:** Define a variable with your name, and perform some arithmetic calculations."
   ]
  },
  {
   "attachments": {},
   "cell_type": "markdown",
   "metadata": {},
   "source": [
    "### Functions"
   ]
  },
  {
   "attachments": {},
   "cell_type": "markdown",
   "metadata": {},
   "source": [
    "**Functions** are sets of operations that take an action on some input.  Functions are defined by typing `def function_name(arguments):` where `arguments` are supplied to the function."
   ]
  },
  {
   "cell_type": "code",
   "execution_count": 6,
   "metadata": {},
   "outputs": [],
   "source": [
    "def absolute_value(num):\n",
    "    if num >= 0:\n",
    "        return num\n",
    "    \n",
    "    else:\n",
    "        return -num"
   ]
  },
  {
   "attachments": {},
   "cell_type": "markdown",
   "metadata": {},
   "source": [
    "We can call functions by providing their names, for example, the absolute value of 2 is:"
   ]
  },
  {
   "cell_type": "code",
   "execution_count": 7,
   "metadata": {},
   "outputs": [
    {
     "data": {
      "text/plain": [
       "2"
      ]
     },
     "execution_count": 7,
     "metadata": {},
     "output_type": "execute_result"
    }
   ],
   "source": [
    "absolute_value(2)"
   ]
  },
  {
   "attachments": {},
   "cell_type": "markdown",
   "metadata": {},
   "source": [
    "And the absolute value of -4 is:"
   ]
  },
  {
   "cell_type": "code",
   "execution_count": 8,
   "metadata": {},
   "outputs": [
    {
     "data": {
      "text/plain": [
       "4"
      ]
     },
     "execution_count": 8,
     "metadata": {},
     "output_type": "execute_result"
    }
   ],
   "source": [
    "absolute_value(-4)"
   ]
  },
  {
   "attachments": {},
   "cell_type": "markdown",
   "metadata": {},
   "source": [
    "If we want to chain functions together, we can nest them inside parentheses. Functions are executed from the inside to outside:"
   ]
  },
  {
   "cell_type": "code",
   "execution_count": 10,
   "metadata": {},
   "outputs": [
    {
     "data": {
      "text/plain": [
       "4"
      ]
     },
     "execution_count": 10,
     "metadata": {},
     "output_type": "execute_result"
    }
   ],
   "source": [
    "absolute_value(-absolute_value(-4))"
   ]
  },
  {
   "attachments": {},
   "cell_type": "markdown",
   "metadata": {},
   "source": [
    "**TRY IT:** Define your own function that multiplies two numbers and returns the result."
   ]
  },
  {
   "attachments": {},
   "cell_type": "markdown",
   "metadata": {},
   "source": [
    "### Advanced Topics"
   ]
  },
  {
   "attachments": {},
   "cell_type": "markdown",
   "metadata": {},
   "source": [
    "The code below uses some other features of variables in Python.  It is not necessary to study these in depth, but briefly examine them now, and you may want to refer to this if you need to modify the code.  Reviewing these will help you read some of the code examples that are introduced."
   ]
  },
  {
   "attachments": {},
   "cell_type": "markdown",
   "metadata": {},
   "source": [
    "**Lists** can be used to store a series of values.  The list is defined by braces, `[]`.  Each entry in a List has an address that can be used to identify it."
   ]
  },
  {
   "cell_type": "code",
   "execution_count": 12,
   "metadata": {},
   "outputs": [
    {
     "name": "stdout",
     "output_type": "stream",
     "text": [
      "1\n",
      "-43\n"
     ]
    }
   ],
   "source": [
    "number_list = [1, 2, -1, 1, -2.2, -43]\n",
    "\n",
    "# In Python, 0 is the first element, length-1 is the last\n",
    "print(number_list[0])\n",
    "print(number_list[5])"
   ]
  },
  {
   "attachments": {},
   "cell_type": "markdown",
   "metadata": {},
   "source": [
    "In Python, a function can be applied to a list in several ways, one is by using a `for` loop and applying the function to each element in the list:"
   ]
  },
  {
   "cell_type": "code",
   "execution_count": 13,
   "metadata": {},
   "outputs": [
    {
     "name": "stdout",
     "output_type": "stream",
     "text": [
      "1\n",
      "2\n",
      "1\n",
      "1\n",
      "2.2\n",
      "43\n"
     ]
    }
   ],
   "source": [
    "for element in number_list:\n",
    "\n",
    "    print(absolute_value(element))"
   ]
  },
  {
   "attachments": {},
   "cell_type": "markdown",
   "metadata": {},
   "source": [
    "We can also use `map()` to map a function over a list. Mapping a function means we need to pass in both the function we want to map, and the list we want to map over:"
   ]
  },
  {
   "cell_type": "code",
   "execution_count": 16,
   "metadata": {},
   "outputs": [
    {
     "name": "stdout",
     "output_type": "stream",
     "text": [
      "[1, 2, 1, 1, 2.2, 43]\n"
     ]
    }
   ],
   "source": [
    "absolute_list = map(absolute_value, number_list)\n",
    "print(list(absolute_list))"
   ]
  },
  {
   "attachments": {},
   "cell_type": "markdown",
   "metadata": {},
   "source": [
    "We can implement associations in python using dictionaries. Dictionaries have keys and values that let us access values by entering in keys."
   ]
  },
  {
   "cell_type": "code",
   "execution_count": 17,
   "metadata": {},
   "outputs": [],
   "source": [
    "translate = {\n",
    "    'apple' : 'manzana',\n",
    "    'orange' : 'naranja'\n",
    "}"
   ]
  },
  {
   "cell_type": "code",
   "execution_count": 19,
   "metadata": {},
   "outputs": [
    {
     "data": {
      "text/plain": [
       "dict_keys(['apple', 'orange'])"
      ]
     },
     "execution_count": 19,
     "metadata": {},
     "output_type": "execute_result"
    }
   ],
   "source": [
    "translate.keys()"
   ]
  },
  {
   "cell_type": "code",
   "execution_count": 20,
   "metadata": {},
   "outputs": [
    {
     "data": {
      "text/plain": [
       "dict_values(['manzana', 'naranja'])"
      ]
     },
     "execution_count": 20,
     "metadata": {},
     "output_type": "execute_result"
    }
   ],
   "source": [
    "translate.values()"
   ]
  },
  {
   "attachments": {},
   "cell_type": "markdown",
   "metadata": {},
   "source": [
    "**TRY IT:** Add a new word to the translate dictionary above. Try printing the translation value by entering the key (hint: dictionary values are accessed by supplying the key as an index.  For example:  `example_list[key] = val` sets the value associated with a `key`"
   ]
  },
  {
   "attachments": {},
   "cell_type": "markdown",
   "metadata": {},
   "source": [
    "### Libraries"
   ]
  },
  {
   "attachments": {},
   "cell_type": "markdown",
   "metadata": {},
   "source": [
    "The power of Python is that there are a plethora of libraries we can use to make data analysis, visualization, and manipulation easier. We `import` libraries and can give them more concise or readable names. Below we'll use [numpy](https://numpy.org) (a numerical computation library) and [matplotlib](https://matplotlib.org) (a graphing library) to create a figure. Later, we'll use other libraries to perform useful functions."
   ]
  },
  {
   "cell_type": "code",
   "execution_count": 3,
   "metadata": {},
   "outputs": [
    {
     "data": {
      "image/png": "[encoded data removed]",
      "text/plain": [
       "<Figure size 432x288 with 1 Axes>"
      ]
     },
     "metadata": {
      "needs_background": "light"
     },
     "output_type": "display_data"
    }
   ],
   "source": [
    "import numpy as np\n",
    "import matplotlib.pyplot as plt\n",
    "\n",
    "# Generate y = sin(x) data \n",
    "x = np.linspace(0, 2 * np.pi, 100)\n",
    "y = np.sin(x)\n",
    "\n",
    "# Plot data\n",
    "plt.plot(x, y)\n",
    "plt.title('Plot of y = sin(x')\n",
    "plt.xlabel('x')\n",
    "plt.ylabel('y')\n",
    "\n",
    "# Show our plot\n",
    "plt.show()"
   ]
  },
  {
   "attachments": {},
   "cell_type": "markdown",
   "metadata": {},
   "source": [
    "We will use plots to visualize our data and numpy to perform operations on it."
   ]
  },
  {
   "attachments": {},
   "cell_type": "markdown",
   "metadata": {},
   "source": [
    "**TRY IT** Use numpy and matplotlib to plot y = cos(x). Refer to [numpy](https://numpy.org/doc/stable/reference/index.html#reference) and [matplptlib](https://matplotlib.org/stable/users/index.html)."
   ]
  },
  {
   "attachments": {},
   "cell_type": "markdown",
   "metadata": {},
   "source": [
    "We will import some other libraries here:"
   ]
  },
  {
   "cell_type": "code",
   "execution_count": 82,
   "metadata": {},
   "outputs": [],
   "source": [
    "import pandas as pd\n",
    "import math\n",
    "from scipy.spatial import ConvexHull, Delaunay\n",
    "import mplcursors\n",
    "from sklearn.linear_model import LogisticRegression\n",
    "\n",
    "# Libraries for interactive sliders\n",
    "import ipywidgets as widgets\n",
    "from IPython.display import display\n",
    "\n",
    "# Libraries for interactive sliders\n",
    "import ipywidgets as widgets\n",
    "from IPython.display import display"
   ]
  },
  {
   "attachments": {},
   "cell_type": "markdown",
   "metadata": {},
   "source": [
    "## Pre-Lab: An Introduction to Concentration Space Diagrams"
   ]
  },
  {
   "attachments": {},
   "cell_type": "markdown",
   "metadata": {},
   "source": [
    "### Solution Mixing in Concentration Space"
   ]
  },
  {
   "attachments": {},
   "cell_type": "markdown",
   "metadata": {},
   "source": [
    "Making solutions with desired compositions is an essential task for all chemistry students. In your previous coursework, you may have learned how calculate the result of mixing two stock solutions using a four-step arithmetic process of converting concentration and volume information to moles, adding the moles present in the new solution, calculating a new volume, and then dividing the new number of moles by the new volume; this presents several opportunities for error.  The inverse problem - whether a desired composition be made from two or more stock solutions - requires an algebraic treatment.  However, there is a simpler way of thinking about the problem in terms of Cartesian coordinates.\n",
    "\n",
    "If there are two solutes,  X and Y,  the concentration of both solutes can be represented as a point, `[x_concentration, y_concentration]`.  If you read the section about Lists above, then you'll remember that a list of values is specified by putting the elements inside the squiggly brackets, `[]`, separated by a comma.  We'll use this notation so that you can enter the values directly into this Python notebook.  \n",
    "\n",
    "- A neat solvent will have no solute, so its concentration point is `[0,0]`; this is denoted point (a) below.\n",
    "- A 1.0 M stock solution of X corresponds to a point at `[1.0, 0]`, denoted as (b) below.\n",
    "- A stock solution that is 1.0 M in Y corresponds to a point at `[0, 1.0]`, denoted as (c) below."
   ]
  },
  {
   "attachments": {},
   "cell_type": "markdown",
   "metadata": {},
   "source": [
    "### NOTE\n",
    "#### To work this code you must run the following code at least once:\n",
    "\n",
    "```\n",
    "jupyter nbextension enable --py widgetsnbextension\n",
    "```"
   ]
  },
  {
   "cell_type": "code",
   "execution_count": 15,
   "metadata": {},
   "outputs": [
    {
     "data": {
      "application/vnd.jupyter.widget-view+json": {
       "model_id": "79c6230da38347868823b6bbfd450357",
       "version_major": 2,
       "version_minor": 0
      },
      "image/png": "[encoded data removed]",
      "text/html": [
       "\n",
       "            <div style=\"display: inline-block;\">\n",
       "                <div class=\"jupyter-widgets widget-label\" style=\"text-align: center;\">\n",
       "                    Figure\n",
       "                </div>\n",
       "                <img src='data:image/png;base64,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' width=640.0/>\n",
       "            </div>\n",
       "        "
      ],
      "text/plain": [
       "Canvas(toolbar=Toolbar(toolitems=[('Home', 'Reset original view', 'home', 'home'), ('Back', 'Back to previous …"
      ]
     },
     "metadata": {},
     "output_type": "display_data"
    }
   ],
   "source": [
    "# Enable interactive plot in Jupyter notebook\n",
    "%matplotlib widget\n",
    "\n",
    "# Create initial plot\n",
    "fig, ax = plt.subplots()\n",
    "plt.xlim(0, 1)\n",
    "plt.ylim(0, 1)\n",
    "\n",
    "# Create a scatter plot with an initial point\n",
    "point, = plt.plot(0.3, 0.3, 'ro')\n",
    "\n",
    "# Initialize mixture lines\n",
    "ab_line = [np.linspace(0, 1.0, 1000), np.linspace(0, 0, 1000)]\n",
    "ac_line = [np.linspace(0, 0, 1000), np.linspace(0, 1.0, 1000)]\n",
    "bc_line = [np.linspace(0, 1.0, 1000), 1 - np.linspace(0, 1.0, 1000)]\n",
    "\n",
    "# Plot lines\n",
    "plt.plot(ab_line[0], ab_line[1])\n",
    "plt.plot(ac_line[0], ac_line[1])\n",
    "line_bc, = plt.plot(bc_line[0], bc_line[1], label='BC')\n",
    "plt.legend()\n",
    "\n",
    "# Define a function to handle mouse movement events\n",
    "def on_move(event):\n",
    "    if event.inaxes == ax:\n",
    "        x_new = max(min(event.xdata, 1), 0)\n",
    "        y_new = max(min(event.ydata, 1), 0)\n",
    "        if y_new > (1 - x_new):\n",
    "            y_new = 1 - x_new\n",
    "        point.set_data([x_new], [y_new])\n",
    "        fig.canvas.draw()\n",
    "\n",
    "# Connect the function to the mouse movement event\n",
    "fig.canvas.mpl_connect('motion_notify_event', on_move)\n",
    "\n",
    "# Enable cursor annotations\n",
    "mplcursors.cursor(hover=True)\n",
    "\n",
    "# Show plot\n",
    "plt.xlabel('[X]')\n",
    "plt.ylabel('[Y]')\n",
    "plt.title('Concentration of Y vs X')\n",
    "plt.show()"
   ]
  },
  {
   "attachments": {},
   "cell_type": "markdown",
   "metadata": {},
   "source": [
    "Suppose you mix solutions (a) and (b):"
   ]
  },
  {
   "attachments": {},
   "cell_type": "markdown",
   "metadata": {},
   "source": [
    "- The mixture cannot be less concentrated in X than the neat solvent.\n",
    "- The mixture cannot be more concentrated in X than the stock solution.  \n",
    "- And any combination of (a) and (b) will not introduce any of solute Y, which is totally absent.  \n",
    "- Therefore, the point describing the concentrations in the resulting mixture must be somewhere on the line between pure (a) and pure (b).  "
   ]
  },
  {
   "attachments": {},
   "cell_type": "markdown",
   "metadata": {},
   "source": [
    "The mixture between (a) and (b) along this line is defined by the equation: *v<sub>a</sub>*[0, 0] + *v<sub>b</sub>*[1.0, 1.0], where *v<sub>a</sub>* and *v<sub>b</sub>* are the **volume fractions** of (a) and (b), respectively, ranging from zero (absent) to one(pure). The sum of these fractions must total to 1, i.e., *v<sub>a</sub>* + *v<sub>b</sub>* = 1. Rearranging this expression allows us to express everything in terms of *v<sub>b</sub>*; we will assume that the remaining 1 - *v<sub>a</sub>* is made up by the neat solvent. This is known as **convex combination** of (a) and (b)."
   ]
  },
  {
   "attachments": {},
   "cell_type": "markdown",
   "metadata": {},
   "source": [
    "**TRY IT:** Try dragging the point past the diagonal line. Observe how the point cannot surpass the BC-mixture line."
   ]
  },
  {
   "attachments": {},
   "cell_type": "markdown",
   "metadata": {},
   "source": [
    "- Any possible mixture of the three liquids, (a), (b), (c) sits within the triangle formed by the three points.\n",
    "- More generally, a convex hull is the set of all possible convex combinations of the starting solutions.\n",
    "    - A common analogy used to describe the convex hull is that it is the shape formed by pulling a rubber band (or in higher dimensions, an elastic sheet) over a set of points, resulting in the outermost points connected by straight lines\n",
    "    - If you've taken linear algebra, then you'll observe that the concentration will be described by (1 - *v<sub>b</sub>* - *v<sub>c</sub>*)[0, 0] + *v<sub>b</sub>*[1.0, 0] + *v<sub>c</sub>*[0, 1.0] with *v<sub>b</sub>* + *v<sub>c</sub>* `<=` 1 (again, we implicitly defined *v<sub>a</sub>* = 1 - *v<sub>b</sub>* - *v<sub>c</sub>* so that *v<sub>a</sub>* + *v<sub>b</sub>* + *v<sub>c</sub>* = 1)"
   ]
  },
  {
   "attachments": {},
   "cell_type": "markdown",
   "metadata": {},
   "source": [
    "### Converting from Concentration to Volume Fractions"
   ]
  },
  {
   "attachments": {},
   "cell_type": "markdown",
   "metadata": {},
   "source": [
    "Suppose that we want to generate a solution with concentrations [X] = 0.2 M and [Y] =0.3 M.  This seems like it is inside the convex hull of possible mixtures, so it should be possible.  What volume fractions do we need to blend to achieve this point?"
   ]
  },
  {
   "attachments": {},
   "cell_type": "markdown",
   "metadata": {},
   "source": [
    "- **TRY IT:** Try moving the point to find the volume fraction that satisfies this point, calculate the implied volume fraction of (a)."
   ]
  },
  {
   "attachments": {},
   "cell_type": "markdown",
   "metadata": {},
   "source": [
    "Another approach is to have the computer perform this search. We begin by defining the different solutions and our target solution defining these as variables:"
   ]
  },
  {
   "cell_type": "code",
   "execution_count": 36,
   "metadata": {},
   "outputs": [],
   "source": [
    "abc = np.array(\n",
    "    [[0, 1.0, 0],\n",
    "    [0, 0, 1.0],\n",
    "    [1, 1, 1,]]\n",
    ")\n",
    "target = np.array([0.2, 0.3, 1])"
   ]
  },
  {
   "attachments": {},
   "cell_type": "markdown",
   "metadata": {},
   "source": [
    "Next we will solve a system of equations to find volume fractions."
   ]
  },
  {
   "cell_type": "code",
   "execution_count": 39,
   "metadata": {},
   "outputs": [
    {
     "name": "stdout",
     "output_type": "stream",
     "text": [
      "va -> 0.49999999999999994\n",
      "vb -> 0.2\n",
      "vc -> 0.3\n"
     ]
    }
   ],
   "source": [
    "# Numpy to find solution\n",
    "solution = np.linalg.solve(abc, target)\n",
    "\n",
    "# Print solutions\n",
    "print(f'va -> {solution[0]}')\n",
    "print(f'vb -> {solution[1]}')\n",
    "print(f'vc -> {solution[2]}')"
   ]
  },
  {
   "attachments": {},
   "cell_type": "markdown",
   "metadata": {},
   "source": [
    "### Generating and Visualizing Random Experiments in Concentration Space"
   ]
  },
  {
   "attachments": {},
   "cell_type": "markdown",
   "metadata": {},
   "source": [
    "Because the convex hull defines what mixtures are possible, by sampling points that are inside the convex hull we can define randomly-generated feasible experiments. To do this, we'll begin by using the definitions of a, b, c from above, generate the convex hull "
   ]
  },
  {
   "cell_type": "code",
   "execution_count": 47,
   "metadata": {},
   "outputs": [
    {
     "name": "stdout",
     "output_type": "stream",
     "text": [
      "Vertices: [0 1 2]\n"
     ]
    },
    {
     "data": {
      "image/png": "[encoded data removed]",
      "text/plain": [
       "<Figure size 432x288 with 1 Axes>"
      ]
     },
     "metadata": {
      "needs_background": "light"
     },
     "output_type": "display_data"
    }
   ],
   "source": [
    "# Exit interactive plot\n",
    "%matplotlib inline\n",
    "\n",
    "# Initialize variables\n",
    "a = [0, 0]\n",
    "b = [1.0, 0]\n",
    "c = [0, 1.0]\n",
    "\n",
    "# Create hull\n",
    "hull_points = np.array([a, b, c])\n",
    "convex_hull = ConvexHull(hull_points)\n",
    "print(f'Vertices: {convex_hull.vertices}')\n",
    "\n",
    "plt.plot(hull_points[:,0], hull_points[:,1], 'o',color='c')\n",
    "for simplex in convex_hull.simplices:\n",
    "    plt.plot(hull_points[simplex, 0], hull_points[simplex, 1], 'c')\n",
    "\n",
    "# Plot\n",
    "plt.title('Convex Hull')\n",
    "plt.xlabel('[X]')\n",
    "plt.ylabel('[Y]')\n",
    "plt.show()"
   ]
  },
  {
   "attachments": {},
   "cell_type": "markdown",
   "metadata": {},
   "source": [
    "With this convex hull, we can generate random points inside the hull which represent random possible mixtures."
   ]
  },
  {
   "cell_type": "code",
   "execution_count": 70,
   "metadata": {},
   "outputs": [
    {
     "data": {
      "image/png": "[encoded data removed]",
      "text/plain": [
       "<Figure size 432x288 with 1 Axes>"
      ]
     },
     "metadata": {
      "needs_background": "light"
     },
     "output_type": "display_data"
    }
   ],
   "source": [
    "# Minimum and maximum coordinates\n",
    "min = np.min(convex_hull.points, axis=0)\n",
    "max = np.max(convex_hull.points, axis=0)\n",
    "\n",
    "# Generate random\n",
    "random_experiments = np.random.uniform(min, max, size=(100, convex_hull.points.shape[1]))\n",
    "\n",
    "# Find the simplex with the random point\n",
    "delauney_triangle = Delaunay(convex_hull.points)\n",
    "simplex_index = delauney_triangle.find_simplex(random_experiments)\n",
    "random_experiments = random_experiments[simplex_index >= 0]\n",
    "\n",
    "# Reshape points\n",
    "random_experiments = random_experiments.transpose()\n",
    "\n",
    "# Plot experiments and hull\n",
    "plt.scatter(random_experiments[0], random_experiments[1])\n",
    "for simplex in convex_hull.simplices:\n",
    "    plt.plot(hull_points[simplex, 0], hull_points[simplex, 1], 'c')\n",
    "\n",
    "# Plot\n",
    "plt.title('Random Experiments')\n",
    "plt.xlabel('[X]')\n",
    "plt.xlabel('[Y]')\n",
    "plt.show()"
   ]
  },
  {
   "attachments": {},
   "cell_type": "markdown",
   "metadata": {},
   "source": [
    "### Equilibrium Expressions in Concentration Space"
   ]
  },
  {
   "attachments": {},
   "cell_type": "markdown",
   "metadata": {},
   "source": [
    "Suppose that we have a solubility equilibrium expression *K<sub>sp</sub>* = [*X*][*Y*]. What does this look like in concentration space? We can rearrange the function to get the expression [*Y*] = *K<sub>sp</sub>*/[*X*]. Let's plot the function in terms of the independent variable *x*. Watch out for dividing by zero! - so we will merely make the bottom limit sufficiently small."
   ]
  },
  {
   "cell_type": "code",
   "execution_count": 83,
   "metadata": {},
   "outputs": [
    {
     "data": {
      "image/png": "[encoded data removed]",
      "text/plain": [
       "<Figure size 432x288 with 1 Axes>"
      ]
     },
     "metadata": {
      "needs_background": "light"
     },
     "output_type": "display_data"
    }
   ],
   "source": [
    "# Define equilibrium constant\n",
    "Ksp = 10 ** -1\n",
    "\n",
    "# Set x and y\n",
    "x = np.linspace(10 ** -1, 1, 1000)\n",
    "y = Ksp / x\n",
    "\n",
    "# Plot\n",
    "plt.title('Concentration of Y vs. X')\n",
    "plt.xlabel('[X]')\n",
    "plt.ylabel('[Y]')\n",
    "plt.plot(x, y)\n",
    "plt.show()"
   ]
  },
  {
   "attachments": {},
   "cell_type": "markdown",
   "metadata": {},
   "source": [
    "Now let's combine it with the plots above:"
   ]
  },
  {
   "cell_type": "code",
   "execution_count": 84,
   "metadata": {},
   "outputs": [
    {
     "data": {
      "image/png": "[encoded data removed]",
      "text/plain": [
       "<Figure size 432x288 with 1 Axes>"
      ]
     },
     "metadata": {
      "needs_background": "light"
     },
     "output_type": "display_data"
    }
   ],
   "source": [
    "# Save all data to plot\n",
    "plt.plot(x, y)\n",
    "plt.scatter(random_experiments[0], random_experiments[1])\n",
    "for simplex in convex_hull.simplices:\n",
    "    plt.plot(hull_points[simplex, 0], hull_points[simplex, 1], 'c')\n",
    "\n",
    "# Plot\n",
    "plt.title('Concentration of Y vs. X')\n",
    "plt.xlabel('[X]')\n",
    "plt.ylabel('[Y]')\n",
    "plt.plot(x, y)\n",
    "plt.show()"
   ]
  },
  {
   "attachments": {},
   "cell_type": "markdown",
   "metadata": {},
   "source": [
    "What does this plot tell us?"
   ]
  },
  {
   "attachments": {},
   "cell_type": "markdown",
   "metadata": {},
   "source": [
    "- The black equilibrium curve indicates choices of the concentration where the **reaction quotient**, <sub>Q</sub>, is equal to the **equilibrium constant**, *K<sub>sp</sub>*.\n",
    "- Any point above the equilibrium curve corresponds to  *Q* > *K*. For a solubility reaction, this corresponds to a supersaturated solution. The precipitation reaction will proceed - consuming [X] and [Y] in the proper stoichiometries - precipitating solid until it reaches equilibrium. Therefore a mixture that starts at one of these points will result in a precipitate.\n",
    "- Any point below the equilibrium curve corresponds to *Q* \\> *K*. If there is no precipitate present at the beginning of the reaction, there is no source of additional [X] or [Y], and so no precipitation will occur."
   ]
  },
  {
   "attachments": {},
   "cell_type": "markdown",
   "metadata": {},
   "source": [
    "### Solving for the Equilibrium Constant"
   ]
  },
  {
   "attachments": {},
   "cell_type": "markdown",
   "metadata": {},
   "source": [
    "Suppose that we performed a series of experiments in the laboratory for the reaction:\n",
    "\n",
    "Pb<sup>2+</sup>(aq) + 2I<sup>-</sup>(aq) &#x21CC; PbI<sub>2</sub>(s)\n",
    "\n",
    "Precipitation was observed for points in red, but no precipitation ocurred for the points in black. What is the equilibrium constant?\n",
    "\n",
    "**TRY IT:** Derive an expression (on paper) for the equilibrium curve."
   ]
  },
  {
   "attachments": {},
   "cell_type": "markdown",
   "metadata": {},
   "source": [
    "### Transforming Variables"
   ]
  },
  {
   "attachments": {},
   "cell_type": "markdown",
   "metadata": {},
   "source": [
    "What if instead of working directly with the concentrations, we instead took the (natural) logarithm of the equilibrium expression?\n",
    "\n",
    "To be completely general, let us suppose that the equilibrium expression has the form: *K<sub>sp</sub>* = [*X*]<sup>*x*</sup>[*Y*]<sup>*y*</sup> where the small x and y are relevant stoichiometric coefficients for their respective species.\n",
    "\n",
    "Taking the natural logarithm of both sides, we would have an expression of the form: \n",
    "\n",
    "ln *K<sub>sp</sub>* = *x* ln[*X*] + *y* ln[*Y*].\n",
    "\n",
    "We can further simplify this expression by solving for ln[*Y*] = (ln*K<sub>sp</sub>* - ln[*X*])/*b*, where *b* = *y*/*x*, as only the ratio is uniquely determined. Below is the same example data used above for the PbI<sub>2</sub> precipitation reaction, but replotted on a logarithmic scale.\n",
    "\n",
    "**TRY IT:** Use the slider bars below to  find the parameters that best fit this data?  How well does it agree with the values determined above?   Observe that you now have two variables that you can change, which adds an additional fitting parameter, and in turn some extra freedom but also ambiguity in the result.  Because you know the stoichiometry, can you set the *b* parameter to be consistent with that knowledge to simplify the fitting process? "
   ]
  },
  {
   "cell_type": "code",
   "execution_count": 88,
   "metadata": {},
   "outputs": [],
   "source": [
    "# Hidden example points\n",
    "points = np.array([\n",
    "    [-5.559606049571456, -6.344053953197228],\n",
    "    [-7.846282817916988, -4.949606591270226],\n",
    "    [-7.496879777482184, -4.759583177845726],\n",
    "    [-7.448661439775135, -4.857507267791798],\n",
    "    [-6.740949116429121, -4.888295695300465],\n",
    "    [-6.609207223854006, -4.976784446022729],\n",
    "    [-6.648927285968798, -4.792939031803738],\n",
    "    [-6.676730727561633, -5.5887005398931064],\n",
    "    [-6.720120422645416, -6.237150453823191],\n",
    "    [-6.460837060020223, -6.533816297910248],\n",
    "    [-6.059335952547188, -5.7376759768634455],\n",
    "    [-6.12681506705027, -5.14357989153987],\n",
    "    [-5.83513209926329, -5.481622116958785],\n",
    "    [-5.72006888602658, -5.155694382583785],\n",
    "    [-5.704356612336286, -5.465726267575118],\n",
    "    [-5.474051876685285, -5.338316084240179],\n",
    "    [-5.235394070806047, -6.035285279636943],\n",
    "    [-5.195012684779468, -5.772148332169686],\n",
    "    [-5.070355384485747, -6.203729144597459],\n",
    "    [-5.278939504285439, -7.249183690052004],\n",
    "    [-4.854122026675655, -7.593099961479201],\n",
    "    [-4.668745184899846, -7.523527030768491]\n",
    "])\n",
    "\n",
    "# Transpose for plotting\n",
    "points = points.transpose()"
   ]
  },
  {
   "cell_type": "code",
   "execution_count": 108,
   "metadata": {},
   "outputs": [
    {
     "data": {
      "application/vnd.jupyter.widget-view+json": {
       "model_id": "f492b21eeae6434fa6131fdd19d416d3",
       "version_major": 2,
       "version_minor": 0
      },
      "text/plain": [
       "FloatSlider(value=2.0, description='b', max=3.0, min=0.001, step=0.01)"
      ]
     },
     "metadata": {},
     "output_type": "display_data"
    },
    {
     "data": {
      "application/vnd.jupyter.widget-view+json": {
       "model_id": "9b7c8ea71fa64b4aa8268137e2422ce3",
       "version_major": 2,
       "version_minor": 0
      },
      "text/plain": [
       "FloatSlider(value=1e-05, description='Ksp', max=0.01, min=1e-05, step=0.0001)"
      ]
     },
     "metadata": {},
     "output_type": "display_data"
    },
    {
     "data": {
      "application/vnd.jupyter.widget-view+json": {
       "model_id": "2c7d014a116142ad90b27d11ed722695",
       "version_major": 2,
       "version_minor": 0
      },
      "text/plain": [
       "interactive(children=(FloatSlider(value=2.0, description='b', max=3.0, min=0.001, step=0.01), Output()), _dom_…"
      ]
     },
     "metadata": {},
     "output_type": "display_data"
    },
    {
     "data": {
      "application/vnd.jupyter.widget-view+json": {
       "model_id": "ba3eb800a89e4d4f9ebbdbfe156710d0",
       "version_major": 2,
       "version_minor": 0
      },
      "image/png": "[encoded data removed]",
      "text/html": [
       "\n",
       "            <div style=\"display: inline-block;\">\n",
       "                <div class=\"jupyter-widgets widget-label\" style=\"text-align: center;\">\n",
       "                    Figure\n",
       "                </div>\n",
       "                <img src='data:image/png;base64,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' width=640.0/>\n",
       "            </div>\n",
       "        "
      ],
      "text/plain": [
       "Canvas(toolbar=Toolbar(toolitems=[('Home', 'Reset original view', 'home', 'home'), ('Back', 'Back to previous …"
      ]
     },
     "metadata": {},
     "output_type": "display_data"
    }
   ],
   "source": [
    "# Create initial plot\n",
    "fig, ax = plt.subplots()\n",
    "plt.xlabel('ln[X]')\n",
    "plt.ylabel('ln[Y]')\n",
    "plt.title('Interactive Plot')\n",
    "plt.scatter(points[0], points[1])\n",
    "\n",
    "# Define the range of x values\n",
    "x = np.linspace(-9, -4, 1000)\n",
    "\n",
    "# Initial equilibrium expression values\n",
    "b_initial = 2.0\n",
    "Ksp_initial = 10 ** -5\n",
    "y_initial = (np.log(Ksp_initial) - x) / b_initial\n",
    "\n",
    "# Create the initial line\n",
    "line, = plt.plot(x, y_initial)\n",
    "\n",
    "# Function to update the line based on the slider values\n",
    "def update_line(change):\n",
    "    b = b_slider.value\n",
    "    Ksp = ksp_slider.value\n",
    "    y = (np.log(Ksp) - x) / b\n",
    "    line.set_ydata(y)\n",
    "    fig.canvas.draw()\n",
    "\n",
    "# Define the slider widgets\n",
    "b_slider = widgets.FloatSlider(value=b_initial, min=0.001, max=3, step=0.01, description='b')\n",
    "ksp_slider = widgets.FloatSlider(value=Ksp_initial, min=0.00001, max=0.01, step=0.0001, description='Ksp')\n",
    "\n",
    "# Attach the update function to the sliders' value change events\n",
    "b_slider.observe(update_line, 'value')\n",
    "ksp_slider.observe(update_line, 'value')\n",
    "\n",
    "# Create interactive plot\n",
    "interactive_plot = widgets.interactive(update_line, change=b_slider)\n",
    "\n",
    "# Display the sliders and plot\n",
    "display(b_slider)\n",
    "display(ksp_slider)\n",
    "display(interactive_plot)\n",
    "\n",
    "# Show the plot\n",
    "plt.show()"
   ]
  },
  {
   "attachments": {},
   "cell_type": "markdown",
   "metadata": {},
   "source": [
    "### Logistic Regression"
   ]
  },
  {
   "attachments": {},
   "cell_type": "markdown",
   "metadata": {},
   "source": [
    "You have probably performed regression calculations in the past - fitting a line (described by the formula *y = mx + b*) to describe the relationship between input values x and output values y.  In the above example, we are doing nearly the same thing - except the goal of our line is to best *separate* the two classes of items. \n",
    "\n",
    "We call such types of problems *classification problems*, which are a subgenre of supervised *machine learning methods*.  But don't let those fancy words confuse you, we merely trying to find a mathematical function (in this case a line) that separates the different types the two classes of items. Practically speaking, there are many different algorithms which vary in terms of the types of functions that are allowed and how the unknown parameters are obtained.\n",
    "\n",
    "We will use a very simple type of model known as a *logistic regression*. This model has the advantage that its mathematical form corresponds closely to our equilibrium expression, ln*K<sub>sp</sub>* = *x*ln[*X*] + *y*ln[*Y*]. What we will do is merely subtract ln*K<sub>sp</sub>* from both sides to find the function *y* = -ln*K<sub>sp</sub>* + *x*ln[*X*] + *y*ln[*Y*], where we use y to denote the outcome (crystallization or not). This would result in solving for three unknown parameters (ln*K<sub>sp</sub>*, and the two unknown stoichiometric coefficients x and y).\n",
    "\n",
    "Let's try an example.  The data you have been working with in the plots has been stored for you in the following variable, where each sublist contains the concentration of X and Y (in our case, [Pb<sup>2+</sup>] and [I<sup>-</sup>]) and the outcome coded as a zero or one):"
   ]
  },
  {
   "cell_type": "code",
   "execution_count": 31,
   "metadata": {},
   "outputs": [],
   "source": [
    "secret_example_data = np.array([\n",
    "    [0.00124592, 0.00686514, 1],\n",
    "    [0.00276404, 0.00697626, 1],\n",
    "    [0.00110926, 0.00644622, 1],\n",
    "    [0.00115605, 0.00276355, 0],\n",
    "    [0.00402267, 0.00154224, 0],\n",
    "    [0.00741375, 0.000508806, 0],\n",
    "    [0.00129914, 0.00294887, 0],\n",
    "    [0.000215272, 0.00770002, 0],\n",
    "    [0.000769694, 0.00407783, 0],\n",
    "    [0.000960827, 0.003942, 1],\n",
    "    [0.00754699, 8.9936 * (10 ** -6), 0],\n",
    "    [0.00858728, 0.000943677, 0],\n",
    "    [0.00126882, 0.00571089, 1],\n",
    "    [0.00133014, 0.00641984, 1],\n",
    "    [0.00166377, 0.00664776, 1],\n",
    "    [0.00604032, 0.00113081, 0],\n",
    "    [0.00763432, 0.00147013, 1],\n",
    "    [0.00937362, 0.000151323, 0],\n",
    "    [0.00240833, 0.000770926, 0],\n",
    "    [0.00376675, 0.00590764, 1],\n",
    "    [0.00376717, 0.00218291, 1],\n",
    "    [0.00607652, 0.00226287, 1],\n",
    "    [0.00219158, 0.00413744, 1],\n",
    "    [0.000890814, 0.00812371, 1]\n",
    "])"
   ]
  },
  {
   "attachments": {},
   "cell_type": "markdown",
   "metadata": {},
   "source": [
    "In Python, a standard practice for working with data science tasks like this is to save data into a dataset. We can use [Pandas](https://pandas.pydata.org/docs/user_guide/index.html) to save our points into a DataFrame. This will let us perform operations on our data and apply machine learning techniques with ease. Below, we can prepare our data for Regression by applying log transformation to [Pb<sup>2+</sup>] and [I<sup>-</sup>]"
   ]
  },
  {
   "cell_type": "code",
   "execution_count": 28,
   "metadata": {},
   "outputs": [
    {
     "data": {
      "text/html": [
       "<div>\n",
       "<style scoped>\n",
       "    .dataframe tbody tr th:only-of-type {\n",
       "        vertical-align: middle;\n",
       "    }\n",
       "\n",
       "    .dataframe tbody tr th {\n",
       "        vertical-align: top;\n",
       "    }\n",
       "\n",
       "    .dataframe thead th {\n",
       "        text-align: right;\n",
       "    }\n",
       "</style>\n",
       "<table border=\"1\" class=\"dataframe\">\n",
       "  <thead>\n",
       "    <tr style=\"text-align: right;\">\n",
       "      <th></th>\n",
       "      <th>Pb_conc</th>\n",
       "      <th>I_conc</th>\n",
       "      <th>outcome</th>\n",
       "    </tr>\n",
       "  </thead>\n",
       "  <tbody>\n",
       "    <tr>\n",
       "      <th>0</th>\n",
       "      <td>-6.687881</td>\n",
       "      <td>-4.981299</td>\n",
       "      <td>1.0</td>\n",
       "    </tr>\n",
       "    <tr>\n",
       "      <th>1</th>\n",
       "      <td>-5.891062</td>\n",
       "      <td>-4.965242</td>\n",
       "      <td>1.0</td>\n",
       "    </tr>\n",
       "    <tr>\n",
       "      <th>2</th>\n",
       "      <td>-6.804062</td>\n",
       "      <td>-5.044261</td>\n",
       "      <td>1.0</td>\n",
       "    </tr>\n",
       "    <tr>\n",
       "      <th>3</th>\n",
       "      <td>-6.762746</td>\n",
       "      <td>-5.891239</td>\n",
       "      <td>0.0</td>\n",
       "    </tr>\n",
       "    <tr>\n",
       "      <th>4</th>\n",
       "      <td>-5.515809</td>\n",
       "      <td>-6.474519</td>\n",
       "      <td>0.0</td>\n",
       "    </tr>\n",
       "  </tbody>\n",
       "</table>\n",
       "</div>"
      ],
      "text/plain": [
       "    Pb_conc    I_conc  outcome\n",
       "0 -6.687881 -4.981299      1.0\n",
       "1 -5.891062 -4.965242      1.0\n",
       "2 -6.804062 -5.044261      1.0\n",
       "3 -6.762746 -5.891239      0.0\n",
       "4 -5.515809 -6.474519      0.0"
      ]
     },
     "execution_count": 28,
     "metadata": {},
     "output_type": "execute_result"
    }
   ],
   "source": [
    "# Store data to dataframe\n",
    "secret_example_dataframe = pd.DataFrame(secret_example_data, columns=['Pb_conc', 'I_conc', 'outcome'])\n",
    "\n",
    "# Log transformation of Pb/I concentrations\n",
    "secret_example_dataframe['Pb_conc'] = np.log(secret_example_dataframe['Pb_conc'])\n",
    "secret_example_dataframe['I_conc'] = np.log(secret_example_dataframe['I_conc'])\n",
    "\n",
    "# Examine dataset\n",
    "secret_example_dataframe.head()"
   ]
  },
  {
   "attachments": {},
   "cell_type": "markdown",
   "metadata": {},
   "source": [
    "It looks like our transformations were successful, before moving on I will provide a brief note about the usefulness of Pandas for dataset manipulation and visualization. Pandas provides many features that let us explore data. For example we can see the size or shape of our data:"
   ]
  },
  {
   "cell_type": "code",
   "execution_count": 218,
   "metadata": {},
   "outputs": [
    {
     "data": {
      "text/plain": [
       "(24, 3)"
      ]
     },
     "execution_count": 218,
     "metadata": {},
     "output_type": "execute_result"
    }
   ],
   "source": [
    "# Print size\n",
    "secret_example_dataframe.shape"
   ]
  },
  {
   "attachments": {},
   "cell_type": "markdown",
   "metadata": {},
   "source": [
    "We can see the data types, null count (any missing values), and column names of the dataset by using the `info()` method:"
   ]
  },
  {
   "cell_type": "code",
   "execution_count": 219,
   "metadata": {},
   "outputs": [
    {
     "name": "stdout",
     "output_type": "stream",
     "text": [
      "<class 'pandas.core.frame.DataFrame'>\n",
      "RangeIndex: 24 entries, 0 to 23\n",
      "Data columns (total 3 columns):\n",
      " #   Column   Non-Null Count  Dtype  \n",
      "---  ------   --------------  -----  \n",
      " 0   Pb_conc  24 non-null     float64\n",
      " 1   I_conc   24 non-null     float64\n",
      " 2   outcome  24 non-null     float64\n",
      "dtypes: float64(3)\n",
      "memory usage: 704.0 bytes\n"
     ]
    }
   ],
   "source": [
    "secret_example_dataframe.info()"
   ]
  },
  {
   "attachments": {},
   "cell_type": "markdown",
   "metadata": {},
   "source": [
    "We can even get statistical metrics just by calling the `describe()` method:"
   ]
  },
  {
   "cell_type": "code",
   "execution_count": 6,
   "metadata": {},
   "outputs": [
    {
     "data": {
      "text/html": [
       "<div>\n",
       "<style scoped>\n",
       "    .dataframe tbody tr th:only-of-type {\n",
       "        vertical-align: middle;\n",
       "    }\n",
       "\n",
       "    .dataframe tbody tr th {\n",
       "        vertical-align: top;\n",
       "    }\n",
       "\n",
       "    .dataframe thead th {\n",
       "        text-align: right;\n",
       "    }\n",
       "</style>\n",
       "<table border=\"1\" class=\"dataframe\">\n",
       "  <thead>\n",
       "    <tr style=\"text-align: right;\">\n",
       "      <th></th>\n",
       "      <th>Pb_conc</th>\n",
       "      <th>I_conc</th>\n",
       "      <th>outcome</th>\n",
       "    </tr>\n",
       "  </thead>\n",
       "  <tbody>\n",
       "    <tr>\n",
       "      <th>count</th>\n",
       "      <td>24.000000</td>\n",
       "      <td>24.000000</td>\n",
       "      <td>24.000000</td>\n",
       "    </tr>\n",
       "    <tr>\n",
       "      <th>mean</th>\n",
       "      <td>-6.050152</td>\n",
       "      <td>-6.141862</td>\n",
       "      <td>0.541667</td>\n",
       "    </tr>\n",
       "    <tr>\n",
       "      <th>std</th>\n",
       "      <td>0.968331</td>\n",
       "      <td>1.541648</td>\n",
       "      <td>0.508977</td>\n",
       "    </tr>\n",
       "    <tr>\n",
       "      <th>min</th>\n",
       "      <td>-8.443608</td>\n",
       "      <td>-11.618997</td>\n",
       "      <td>0.000000</td>\n",
       "    </tr>\n",
       "    <tr>\n",
       "      <th>25%</th>\n",
       "      <td>-6.706597</td>\n",
       "      <td>-6.588009</td>\n",
       "      <td>0.000000</td>\n",
       "    </tr>\n",
       "    <tr>\n",
       "      <th>50%</th>\n",
       "      <td>-6.075977</td>\n",
       "      <td>-5.681200</td>\n",
       "      <td>1.000000</td>\n",
       "    </tr>\n",
       "    <tr>\n",
       "      <th>75%</th>\n",
       "      <td>-5.107804</td>\n",
       "      <td>-5.047337</td>\n",
       "      <td>1.000000</td>\n",
       "    </tr>\n",
       "    <tr>\n",
       "      <th>max</th>\n",
       "      <td>-4.669856</td>\n",
       "      <td>-4.812968</td>\n",
       "      <td>1.000000</td>\n",
       "    </tr>\n",
       "  </tbody>\n",
       "</table>\n",
       "</div>"
      ],
      "text/plain": [
       "         Pb_conc     I_conc    outcome\n",
       "count  24.000000  24.000000  24.000000\n",
       "mean   -6.050152  -6.141862   0.541667\n",
       "std     0.968331   1.541648   0.508977\n",
       "min    -8.443608 -11.618997   0.000000\n",
       "25%    -6.706597  -6.588009   0.000000\n",
       "50%    -6.075977  -5.681200   1.000000\n",
       "75%    -5.107804  -5.047337   1.000000\n",
       "max    -4.669856  -4.812968   1.000000"
      ]
     },
     "execution_count": 6,
     "metadata": {},
     "output_type": "execute_result"
    }
   ],
   "source": [
    "secret_example_dataframe.describe()"
   ]
  },
  {
   "attachments": {},
   "cell_type": "markdown",
   "metadata": {},
   "source": [
    "There are many other useful functions that you can try out on your own and explore on the [Pandas website](https://pandas.pydata.org/docs/getting_started/intro_tutorials/index.html). For now, let's move on to machine learning. For our machine learning tasks we will use [scikit-learn](https://scikit-learn.org/). This resource provides an enormous amount of functionality for preprocessing data, training machine learning models, and testing their performance. Our task is [logistic regression](https://scikit-learn.org/stable/modules/generated/sklearn.linear_model.LogisticRegression.html), and in a few lines of code we'll train a machine learning model to predict mixture outcomes:"
   ]
  },
  {
   "cell_type": "code",
   "execution_count": 10,
   "metadata": {},
   "outputs": [],
   "source": [
    "X = secret_example_dataframe[['Pb_conc', 'I_conc']]\n",
    "y = secret_example_dataframe['outcome']\n",
    "\n",
    "# Initialize model and fit\n",
    "model = LogisticRegression()\n",
    "model.fit(X, y)\n",
    "\n",
    "# Save parameters\n",
    "result = model.coef_\n",
    "const = model.intercept_"
   ]
  },
  {
   "attachments": {},
   "cell_type": "markdown",
   "metadata": {},
   "source": [
    "(When you run this on your own data, you may get some warning messages about small or large parameters; this is because there is no unique solution to this equation if there is a line that can perfectly divide the two classes of outcomes.). "
   ]
  },
  {
   "cell_type": "code",
   "execution_count": 17,
   "metadata": {},
   "outputs": [
    {
     "data": {
      "text/plain": [
       "array([[0.89848939, 1.82765907]])"
      ]
     },
     "execution_count": 17,
     "metadata": {},
     "output_type": "execute_result"
    }
   ],
   "source": [
    "result"
   ]
  },
  {
   "cell_type": "code",
   "execution_count": 12,
   "metadata": {},
   "outputs": [
    {
     "data": {
      "text/plain": [
       "array([16.51383554])"
      ]
     },
     "execution_count": 12,
     "metadata": {},
     "output_type": "execute_result"
    }
   ],
   "source": [
    "const"
   ]
  },
  {
   "attachments": {},
   "cell_type": "markdown",
   "metadata": {},
   "source": [
    "The first entry corresponds to -ln*K<sub>sp</sub>*.  You'll notice that the parameters are all large - this is because we can always increase the scale of the parameters together and obtain an equally good fit.  So we have to pick one of the values to serve as our normalization factor.  It seems reasonable to assume that the stoichiometry of lead in the reaction is \"1\", so let's divide by that parameter (the second entry in the list):"
   ]
  },
  {
   "cell_type": "code",
   "execution_count": 18,
   "metadata": {},
   "outputs": [
    {
     "data": {
      "text/plain": [
       "array([1.        , 2.03414651])"
      ]
     },
     "execution_count": 18,
     "metadata": {},
     "output_type": "execute_result"
    }
   ],
   "source": [
    "result[0] / result[0][0]"
   ]
  },
  {
   "attachments": {},
   "cell_type": "markdown",
   "metadata": {},
   "source": [
    "Not bad!  This mostly roughly predicts the stoichiometry of the other species (which should be 2) as well as the -ln*K<sub>sp</sub>*. (notice how the sign is opposite).  If we added more data (say 96 experiments instead of 24) we might expect this to converge to the \"right\" answer.  These are comparable to the types of variations that you might observed when trying to fit the parameters yourself using the interactive plots."
   ]
  },
  {
   "attachments": {},
   "cell_type": "markdown",
   "metadata": {},
   "source": [
    "It is often the case that we can add our own scientific information to better constrain the solution.  If we impose our knowledge of the stoichiometry of the problem, then we can reduce the formula we fit to be one of the form *y* = -ln*K<sub>sp</sub>* + (1ln[*X*] + 2ln[*Y*]). Or stated another way, let's define a new variable *z* = (1ln[*X*] + 2ln[*Y*]), and find *y* = -ln*K<sub>sp</sub>* + *z*. Now we only have one free parameter - our equilibrium constant. We'll define a different data transformation function:"
   ]
  },
  {
   "cell_type": "code",
   "execution_count": 32,
   "metadata": {},
   "outputs": [],
   "source": [
    "def constrained_transform(data):\n",
    "    '''\n",
    "    Function to transform our data to fit one free parameter\n",
    "\n",
    "    @param data : the data to transform\n",
    "    @return data : transformed data\n",
    "    '''\n",
    "    # Iterate through data list\n",
    "    new_data = []\n",
    "    for element in data:\n",
    "\n",
    "        # Transform\n",
    "        element = [1 * np.log(element[0]) + 2 * np.log(element[1]), element[2]]\n",
    "        new_data.append(element)\n",
    "\n",
    "    # Return data\n",
    "    return new_data"
   ]
  },
  {
   "attachments": {},
   "cell_type": "markdown",
   "metadata": {},
   "source": [
    "And then apply it to our data and find the fit:\n",
    "\n",
    "(NOTE: First, re-evaluate the cell where the `secret_example_data` list is defined. We have transformed it in some code above so we must \"reset\" it so to speak)."
   ]
  },
  {
   "cell_type": "code",
   "execution_count": 38,
   "metadata": {},
   "outputs": [
    {
     "data": {
      "text/html": [
       "<div>\n",
       "<style scoped>\n",
       "    .dataframe tbody tr th:only-of-type {\n",
       "        vertical-align: middle;\n",
       "    }\n",
       "\n",
       "    .dataframe tbody tr th {\n",
       "        vertical-align: top;\n",
       "    }\n",
       "\n",
       "    .dataframe thead th {\n",
       "        text-align: right;\n",
       "    }\n",
       "</style>\n",
       "<table border=\"1\" class=\"dataframe\">\n",
       "  <thead>\n",
       "    <tr style=\"text-align: right;\">\n",
       "      <th></th>\n",
       "      <th>z</th>\n",
       "      <th>outcome</th>\n",
       "    </tr>\n",
       "  </thead>\n",
       "  <tbody>\n",
       "    <tr>\n",
       "      <th>0</th>\n",
       "      <td>-16.650479</td>\n",
       "      <td>1.0</td>\n",
       "    </tr>\n",
       "    <tr>\n",
       "      <th>1</th>\n",
       "      <td>-15.821547</td>\n",
       "      <td>1.0</td>\n",
       "    </tr>\n",
       "    <tr>\n",
       "      <th>2</th>\n",
       "      <td>-16.892585</td>\n",
       "      <td>1.0</td>\n",
       "    </tr>\n",
       "    <tr>\n",
       "      <th>3</th>\n",
       "      <td>-18.545225</td>\n",
       "      <td>0.0</td>\n",
       "    </tr>\n",
       "    <tr>\n",
       "      <th>4</th>\n",
       "      <td>-18.464848</td>\n",
       "      <td>0.0</td>\n",
       "    </tr>\n",
       "  </tbody>\n",
       "</table>\n",
       "</div>"
      ],
      "text/plain": [
       "           z  outcome\n",
       "0 -16.650479      1.0\n",
       "1 -15.821547      1.0\n",
       "2 -16.892585      1.0\n",
       "3 -18.545225      0.0\n",
       "4 -18.464848      0.0"
      ]
     },
     "execution_count": 38,
     "metadata": {},
     "output_type": "execute_result"
    }
   ],
   "source": [
    "# Transform data\n",
    "transformed_secret_example_data = constrained_transform(secret_example_data)\n",
    "\n",
    "# Save to dataframe\n",
    "transformed_secret_example_dataframe = pd.DataFrame(\n",
    "    transformed_secret_example_data,\n",
    "    columns=['z', 'outcome']\n",
    ")\n",
    "\n",
    "# View data\n",
    "transformed_secret_example_dataframe.head()"
   ]
  },
  {
   "cell_type": "code",
   "execution_count": 39,
   "metadata": {},
   "outputs": [],
   "source": [
    "# Define variables\n",
    "X = transformed_secret_example_dataframe['z'].values.reshape(-1, 1)\n",
    "y = transformed_secret_example_dataframe['outcome']\n",
    "\n",
    "# Initialize model\n",
    "model = LogisticRegression()\n",
    "\n",
    "# Fit to data\n",
    "model.fit(X, y)\n",
    "\n",
    "# Coefs and intercept\n",
    "result = model.coef_\n",
    "const = model.intercept_"
   ]
  },
  {
   "cell_type": "code",
   "execution_count": 40,
   "metadata": {},
   "outputs": [
    {
     "data": {
      "text/plain": [
       "array([[1.92375742]])"
      ]
     },
     "execution_count": 40,
     "metadata": {},
     "output_type": "execute_result"
    }
   ],
   "source": [
    "result"
   ]
  },
  {
   "cell_type": "code",
   "execution_count": 41,
   "metadata": {},
   "outputs": [
    {
     "name": "stdout",
     "output_type": "stream",
     "text": [
      "const: 18.013421816654365\n",
      "z: [1.]\n"
     ]
    }
   ],
   "source": [
    "print(f'const: {const[0] / result[0][0]}')\n",
    "print(f'z: {result[0] / result[0][0]}')"
   ]
  },
  {
   "attachments": {},
   "cell_type": "markdown",
   "metadata": {},
   "source": [
    "This should be in vary good agreement with the values you obtained from your fitting, where we constrained the equilibrium curves to have the \"correct\" stoichiometry."
   ]
  },
  {
   "attachments": {},
   "cell_type": "markdown",
   "metadata": {},
   "source": [
    "### Exporting Instructions to the Real World"
   ]
  },
  {
   "attachments": {},
   "cell_type": "markdown",
   "metadata": {},
   "source": [
    "In the animations above you have been using simulated data.  But in a real laboratory setting you will want to generate the example mixture points and then export the instructions.  To do this, you will have to combine some of the strategies we've demonstrated above."
   ]
  },
  {
   "attachments": {},
   "cell_type": "markdown",
   "metadata": {},
   "source": [
    "First, you've already seen how to define random concentration samples:"
   ]
  },
  {
   "cell_type": "code",
   "execution_count": 72,
   "metadata": {},
   "outputs": [
    {
     "name": "stdout",
     "output_type": "stream",
     "text": [
      "[[0.0008598114603614404, 0.009050949504199372], [0.004646666653441892, 0.0057177185113448225], [0.00674681204312306, 0.0013712332228621772], [0.005710251917943739, 0.0072095127905696926], [0.009847956660084072, 0.005670836644770618], [0.0054737773994279725, 0.00010033462488265755], [0.007538003788623877, 0.009100699007462075], [0.002239154968306788, 0.005524432274216368], [0.0019607923194292377, 0.0005928671200341829], [0.0060478821230036325, 0.009253312510345953], [0.008870309692139677, 0.009550086267486782], [0.0032360319210944653, 0.008453350650060925], [0.0035226433877385754, 0.0049560462532501496], [0.009016527297368522, 0.009260762553223336], [0.008357659691003778, 0.005480104285326517], [0.006403802122815766, 0.00240654044862031], [0.00786879631143724, 0.0009832269700122808], [0.0035138745877568, 0.004315477392598842], [0.005632735681100083, 0.0002841498666407227], [0.009644655857668202, 0.0008217099000392103], [0.003582427012180486, 0.0015435601307387027], [0.00635384622375258, 0.009575815118708862], [0.009090437076632093, 0.002296707362028414], [0.005349494930543284, 0.00785013366125192], [0.003389775248780418, 0.00013847151998612085], [0.008517253366377665, 0.0045086992579853056], [0.004320157308100258, 0.0013272966685300735], [0.005874208557341443, 0.004563753105792878], [0.007115450891684807, 0.00614323693384742], [0.005069119354235743, 0.008097627844835085], [0.007413576905497277, 0.0008265133174712569], [0.003971482424452847, 0.0014269630005725852], [0.006294867204139687, 0.009281173156421355], [0.008244126291124875, 0.0023094189062737645], [8.602682953853357e-05, 0.003827322431920085], [0.0010008154481069699, 0.0034641356057030738], [0.005190753887564253, 0.004050786749391734], [0.0033616822575357965, 0.0035075324262981156], [0.005919060629911384, 0.001635349492123953], [0.006258000367516438, 0.009561236152215076], [0.005407523937742358, 0.0029605982095304707], [0.00143674510045394, 4.2096782244007706e-05], [0.00817005497110938, 0.007589021956969996], [0.002334726287281025, 0.001649854020501873], [0.007045134656530397, 0.0007137498577644353], [0.005823034270192182, 0.005949969284227101], [0.007081944365153243, 0.003113176221959486], [0.0021289448709464697, 0.004416099822288434], [0.001356311510921444, 0.006768864471538373], [0.004085190805499569, 0.006072782967121488]]\n"
     ]
    }
   ],
   "source": [
    "# Initialize variables\n",
    "a = [0, 0]\n",
    "b = [0.01, 0]\n",
    "c = [0, 0.01]\n",
    "\n",
    "# Create hull\n",
    "hull_points = np.array([a, b, c])\n",
    "convex_hull = ConvexHull(hull_points)\n",
    "\n",
    "# Sample points\n",
    "x_min, y_min = np.min(hull_points, axis=0)\n",
    "x_max, y_max = np.max(hull_points, axis=0)\n",
    "\n",
    "random_experiments = []\n",
    "for i in range(50):\n",
    "\n",
    "    # Generate random point\n",
    "    random_experiments.append([np.random.uniform(x_min, x_max), np.random.uniform(y_min, y_max)])\n",
    "\n",
    "# Print experiments\n",
    "print(random_experiments)"
   ]
  },
  {
   "attachments": {},
   "cell_type": "markdown",
   "metadata": {},
   "source": [
    "Next, we'll need to determine the volume fraction for each target.  Because this is something we need to do for each point, we'll define a function for the process (with a few extra modifications to get the data into a simplified form). Notice how although we only need 24 samples, we made 50. You will see why in the code below."
   ]
  },
  {
   "cell_type": "code",
   "execution_count": 74,
   "metadata": {},
   "outputs": [],
   "source": [
    "def volume_fractions(data, stock_conc):\n",
    "    '''\n",
    "    Function to generate volume fractions\n",
    "\n",
    "    @param stock_conc : np array of stock concentrations\n",
    "    @return volumes : resulting volumes\n",
    "    '''\n",
    "    # For element in data, generate random\n",
    "    volumes = []\n",
    "    i = 0\n",
    "    while len(volumes) < 24:\n",
    "\n",
    "        # Solve for values\n",
    "        target = [data[i][0], data[i][1], 1]\n",
    "        solution = np.linalg.solve(stock_conc, target)\n",
    "\n",
    "        # Append to list\n",
    "        i += 1\n",
    "        if all(x > 0 for x in solution):\n",
    "            volumes.append([solution[0], solution[1], solution[2]])\n",
    "\n",
    "        else:\n",
    "            continue\n",
    "\n",
    "    # Return volumes\n",
    "    return volumes"
   ]
  },
  {
   "attachments": {},
   "cell_type": "markdown",
   "metadata": {},
   "source": [
    "Now, we'll apply this to the randomly generated experiments to create a list of the corresponding volume fractions applying it to each item. Unfortunately, numpy linear algebra solver does not let us specify that all values must be greater than or equal to 0. So we enforce this by generating more random samples than we need and only including valid ones where all values are positive:"
   ]
  },
  {
   "cell_type": "code",
   "execution_count": 75,
   "metadata": {},
   "outputs": [
    {
     "data": {
      "text/plain": [
       "[[0.008923903543918699, 0.08598114603614404, 0.9050949504199373],\n",
       " [0.18819547340147624, 0.674681204312306, 0.1371233222862177],\n",
       " [0.442588797568937, 0.5473777399427973, 0.010033462488265754],\n",
       " [0.22364127574768441, 0.22391549683067882, 0.5524432274216368],\n",
       " [0.744634056053658, 0.19607923194292376, 0.059286712003418285],\n",
       " [0.15213103590112753, 0.35226433877385754, 0.4956046253250149],\n",
       " [0.11896574285639239, 0.6403802122815766, 0.240654044862031],\n",
       " [0.11479767185504797, 0.786879631143724, 0.09832269700122807],\n",
       " [0.21706480196443578, 0.35138745877568, 0.4315477392598842],\n",
       " [0.40831144522591944, 0.5632735681100083, 0.02841498666407227],\n",
       " [0.48740128570808117, 0.3582427012180486, 0.15435601307387026],\n",
       " [0.6471753231233461, 0.3389775248780418, 0.013847151998612084],\n",
       " [0.4352546023369669, 0.43201573081002576, 0.13272966685300736],\n",
       " [0.17599097770314664, 0.7413576905497277, 0.08265133174712569],\n",
       " [0.4601554574974568, 0.3971482424452847, 0.14269630005725853],\n",
       " [0.6086650738541382, 0.008602682953853358, 0.3827322431920085],\n",
       " [0.5535048946189957, 0.10008154481069699, 0.34641356057030737],\n",
       " [0.07584593630440117, 0.5190753887564253, 0.40507867493917343],\n",
       " [0.3130785316166088, 0.33616822575357963, 0.35075324262981156],\n",
       " [0.24455898779646634, 0.5919060629911383, 0.1635349492123953],\n",
       " [0.16318778527271716, 0.5407523937742358, 0.29605982095304706],\n",
       " [0.8521158117302052, 0.143674510045394, 0.00420967822440077],\n",
       " [0.6015419692217102, 0.23347262872810248, 0.1649854020501873],\n",
       " [0.22411154857051685, 0.7045134656530396, 0.07137498577644352]]"
      ]
     },
     "execution_count": 75,
     "metadata": {},
     "output_type": "execute_result"
    }
   ],
   "source": [
    "stock_abc = np.array(\n",
    "    [[0, 0.01, 0],\n",
    "    [0, 0, 0.01],\n",
    "    [1, 1, 1,]]\n",
    ")\n",
    "\n",
    "corresponding_volume_fractions = volume_fractions(random_experiments, stock_abc)\n",
    "corresponding_volume_fractions"
   ]
  },
  {
   "attachments": {},
   "cell_type": "markdown",
   "metadata": {},
   "source": [
    "Of course, you don't want to generate a fractional volume in the laboratory---you want to generate a desired total volume. This can be obtained by multiply this fraction by the total volume (expressed in the relevant units), let's say it is 300 microliters. It's probably unrealistic to expect that you can obtain sub-microliter precision in the lab; in practice it will likely be even less than this depending on how the experiment is performed.  So let's be more realistic and truncate this to single microliters; we can do this using the math floor function to obtain just the integer amounts."
   ]
  },
  {
   "cell_type": "code",
   "execution_count": 76,
   "metadata": {},
   "outputs": [
    {
     "data": {
      "text/plain": [
       "[[2, 25, 271],\n",
       " [56, 202, 41],\n",
       " [132, 164, 3],\n",
       " [67, 67, 165],\n",
       " [223, 58, 17],\n",
       " [45, 105, 148],\n",
       " [35, 192, 72],\n",
       " [34, 236, 29],\n",
       " [65, 105, 129],\n",
       " [122, 168, 8],\n",
       " [146, 107, 46],\n",
       " [194, 101, 4],\n",
       " [130, 129, 39],\n",
       " [52, 222, 24],\n",
       " [138, 119, 42],\n",
       " [182, 2, 114],\n",
       " [166, 30, 103],\n",
       " [22, 155, 121],\n",
       " [93, 100, 105],\n",
       " [73, 177, 49],\n",
       " [48, 162, 88],\n",
       " [255, 43, 1],\n",
       " [180, 70, 49],\n",
       " [67, 211, 21]]"
      ]
     },
     "execution_count": 76,
     "metadata": {},
     "output_type": "execute_result"
    }
   ],
   "source": [
    "for i in range(len(corresponding_volume_fractions)):\n",
    "    corresponding_volume_fractions[i] = [math.floor(300 * corresponding_volume_fractions[i][j]) for j in range(3)]\n",
    "\n",
    "# New volume fractions\n",
    "corresponding_volume_fractions"
   ]
  },
  {
   "attachments": {},
   "cell_type": "markdown",
   "metadata": {},
   "source": [
    "Finally, you'll need to get this to the human or robot who will be performing the experiment.   We will do this by exporting to a Comma Separated Value (CSV) file, using the `to_csv()` method. \n",
    "\n",
    "**(Ultimately, the robot control programs accept different types of file formats, and your instructor or TA will  elp you convert the exported CSV file to an appropriate input format.  If you are not using a robot, then you can just print the CSV file and use it to guide your manual pipetting.)** \n",
    "\n",
    "To export the file, you'll define a pandas dataframe, `corresponding_volume_fractions_df` to contain the data, and then call the `.to_csv()` method (providing a filename and other options) to that dataframe to write the file:"
   ]
  },
  {
   "cell_type": "code",
   "execution_count": 78,
   "metadata": {},
   "outputs": [],
   "source": [
    "corresponding_volume_fractions_df = pd.DataFrame(corresponding_volume_fractions)\n",
    "corresponding_volume_fractions_df.to_csv('my_experiments.csv', header=False)"
   ]
  },
  {
   "attachments": {},
   "cell_type": "markdown",
   "metadata": {},
   "source": [
    "Look for the `my_experiments.csv` file on your computer and open it to confirm that you have exported the appropriate columns of data."
   ]
  },
  {
   "attachments": {},
   "cell_type": "markdown",
   "metadata": {},
   "source": [
    "### Importing Result Data and Fitting a Model"
   ]
  },
  {
   "attachments": {},
   "cell_type": "markdown",
   "metadata": {},
   "source": [
    "Suppose that you've saved a set of results describing the volume of your three stock solutions and the outcome stored in an CSV file---each row corresponds to the list `[volume_of_a, volume_of_b, volume_of_c, outcome]`.  What are the steps that we need to take?"
   ]
  },
  {
   "attachments": {},
   "cell_type": "markdown",
   "metadata": {},
   "source": [
    "1. Import the contents of the file to a Python.\n",
    "2. Convert the volumes to concentrations (given the known stock solutions).\n",
    "3. Convert the concentrations to logarithms (with or without adding the stoichiometric constraint).\n",
    "4. Perform the Logistic Regression Fit to determine the equilibrium constant."
   ]
  },
  {
   "attachments": {},
   "cell_type": "markdown",
   "metadata": {},
   "source": [
    "Let's start  with the first step.  Your instructor will provide you with an `example_results.csv` file.  Place it somewhere you can find it and import it:"
   ]
  },
  {
   "cell_type": "code",
   "execution_count": 79,
   "metadata": {},
   "outputs": [
    {
     "data": {
      "text/plain": [
       "[[104, 46, 150, 1],\n",
       " [75, 17, 208, 1],\n",
       " [96, 168, 36, 0],\n",
       " [125, 53, 122, 0],\n",
       " [22, 188, 90, 1],\n",
       " [61, 191, 47, 0],\n",
       " [20, 137, 143, 1],\n",
       " [62, 172, 66, 0],\n",
       " [5, 181, 114, 1],\n",
       " [141, 73, 86, 0],\n",
       " [37, 145, 118, 1],\n",
       " [31, 201, 68, 1],\n",
       " [45, 182, 73, 0],\n",
       " [170, 37, 93, 0],\n",
       " [205, 61, 34, 0],\n",
       " [75, 95, 130, 1],\n",
       " [3, 51, 246, 1],\n",
       " [17, 49, 234, 1],\n",
       " [70, 170, 60, 0],\n",
       " [119, 94, 88, 0],\n",
       " [132, 16, 151, 0],\n",
       " [26, 88, 186, 1],\n",
       " [147, 30, 123, 0],\n",
       " [136, 121, 43, 0],\n",
       " [83, 182, 36, 0],\n",
       " [190, 106, 4, 0],\n",
       " [111, 42, 147, 1],\n",
       " [57, 186, 57, 0],\n",
       " [69, 94, 137, 1],\n",
       " [41, 231, 28, 0],\n",
       " [249, 4, 48, 0],\n",
       " [4, 138, 158, 1],\n",
       " [73, 43, 184, 1],\n",
       " [280, 7, 13, 0],\n",
       " [241, 59, 0, 0],\n",
       " [84, 168, 48, 0],\n",
       " [14, 35, 251, 1],\n",
       " [24, 176, 100, 1],\n",
       " [13, 157, 130, 1],\n",
       " [156, 50, 94, 0],\n",
       " [250, 18, 32, 0],\n",
       " [70, 87, 143, 1],\n",
       " [41, 71, 188, 1],\n",
       " [29, 271, 1, 0],\n",
       " [118, 69, 113, 1],\n",
       " [243, 26, 30, 0],\n",
       " [35, 210, 54, 0],\n",
       " [150, 122, 27, 0],\n",
       " [213, 82, 5, 0],\n",
       " [1, 101, 199, 1],\n",
       " [125, 114, 62, 0],\n",
       " [220, 21, 59, 0],\n",
       " [16, 5, 278, 0],\n",
       " [27, 123, 150, 1],\n",
       " [120, 155, 25, 0],\n",
       " [64, 205, 31, 0],\n",
       " [55, 53, 191, 1],\n",
       " [221, 64, 15, 0],\n",
       " [22, 82, 196, 1],\n",
       " [80, 88, 132, 1],\n",
       " [93, 140, 67, 0],\n",
       " [32, 41, 227, 1],\n",
       " [168, 97, 35, 0],\n",
       " [145, 89, 66, 0],\n",
       " [191, 61, 48, 0],\n",
       " [54, 121, 125, 1],\n",
       " [24, 16, 260, 1],\n",
       " [49, 34, 217, 1],\n",
       " [189, 7, 104, 0],\n",
       " [66, 125, 109, 1],\n",
       " [22, 36, 241, 1],\n",
       " [94, 140, 67, 0],\n",
       " [135, 25, 140, 0],\n",
       " [136, 136, 28, 0],\n",
       " [152, 108, 40, 0],\n",
       " [78, 141, 81, 0],\n",
       " [148, 148, 4, 0],\n",
       " [158, 2, 140, 0],\n",
       " [74, 167, 59, 0],\n",
       " [20, 173, 107, 1],\n",
       " [57, 181, 62, 0],\n",
       " [22, 242, 37, 0],\n",
       " [64, 213, 23, 0],\n",
       " [85, 134, 81, 1],\n",
       " [42, 124, 135, 1],\n",
       " [204, 9, 88, 0],\n",
       " [21, 83, 196, 1],\n",
       " [178, 80, 42, 0],\n",
       " [28, 9, 263, 0],\n",
       " [113, 112, 75, 0],\n",
       " [18, 177, 106, 1],\n",
       " [202, 12, 86, 0],\n",
       " [83, 157, 60, 0],\n",
       " [134, 14, 152, 0],\n",
       " [142, 142, 16, 0]]"
      ]
     },
     "execution_count": 79,
     "metadata": {},
     "output_type": "execute_result"
    }
   ],
   "source": [
    "example_data = pd.read_csv('example_results.csv').values.tolist()\n",
    "\n",
    "# Print list\n",
    "example_data"
   ]
  },
  {
   "attachments": {},
   "cell_type": "markdown",
   "metadata": {},
   "source": [
    "After reading the data, let's define a function to convert the volumes to concentrations:"
   ]
  },
  {
   "cell_type": "code",
   "execution_count": 80,
   "metadata": {},
   "outputs": [],
   "source": [
    "def to_concentration(a, b, c, data):\n",
    "    '''\n",
    "    @param a : water component\n",
    "    @param b : The PbSO4 component\n",
    "    @param c : The KI component\n",
    "\n",
    "    @return concentrations : concentration list\n",
    "    '''\n",
    "    # Iterate elements and convert\n",
    "    concentrations = []\n",
    "    for element in data:\n",
    "\n",
    "        # Append concentrations to list\n",
    "        concentrations.append(\n",
    "            [a[0] * element[0] + b[0] * element[1] + c[0] * element[2],\n",
    "            a[1] * element[0] + b[1] * element[1] + c[1] * element[2],\n",
    "            element[3]]\n",
    "        )\n",
    "\n",
    "    # Return list\n",
    "    return concentrations"
   ]
  },
  {
   "attachments": {},
   "cell_type": "markdown",
   "metadata": {},
   "source": [
    "We'll assume the same fictitious stock solutions used above and apply this function to compute the concentrations:"
   ]
  },
  {
   "cell_type": "code",
   "execution_count": 81,
   "metadata": {},
   "outputs": [
    {
     "data": {
      "text/plain": [
       "[[0.46, 1.5, 1],\n",
       " [0.17, 2.08, 1],\n",
       " [1.68, 0.36, 0],\n",
       " [0.53, 1.22, 0],\n",
       " [1.8800000000000001, 0.9, 1],\n",
       " [1.9100000000000001, 0.47000000000000003, 0],\n",
       " [1.37, 1.43, 1],\n",
       " [1.72, 0.66, 0],\n",
       " [1.81, 1.1400000000000001, 1],\n",
       " [0.73, 0.86, 0],\n",
       " [1.45, 1.18, 1],\n",
       " [2.0100000000000002, 0.68, 1],\n",
       " [1.82, 0.73, 0],\n",
       " [0.37, 0.93, 0],\n",
       " [0.61, 0.34, 0],\n",
       " [0.9500000000000001, 1.3, 1],\n",
       " [0.51, 2.46, 1],\n",
       " [0.49, 2.34, 1],\n",
       " [1.7, 0.6, 0],\n",
       " [0.9400000000000001, 0.88, 0],\n",
       " [0.16, 1.51, 0],\n",
       " [0.88, 1.86, 1],\n",
       " [0.3, 1.23, 0],\n",
       " [1.21, 0.43, 0],\n",
       " [1.82, 0.36, 0],\n",
       " [1.06, 0.04, 0],\n",
       " [0.42, 1.47, 1],\n",
       " [1.86, 0.5700000000000001, 0],\n",
       " [0.9400000000000001, 1.37, 1],\n",
       " [2.31, 0.28, 0],\n",
       " [0.04, 0.48, 0],\n",
       " [1.3800000000000001, 1.58, 1],\n",
       " [0.43, 1.84, 1],\n",
       " [0.07, 0.13, 0],\n",
       " [0.59, 0.0, 0],\n",
       " [1.68, 0.48, 0],\n",
       " [0.35000000000000003, 2.5100000000000002, 1],\n",
       " [1.76, 1.0, 1],\n",
       " [1.57, 1.3, 1],\n",
       " [0.5, 0.9400000000000001, 0],\n",
       " [0.18, 0.32, 0],\n",
       " [0.87, 1.43, 1],\n",
       " [0.71, 1.8800000000000001, 1],\n",
       " [2.71, 0.01, 0],\n",
       " [0.6900000000000001, 1.1300000000000001, 1],\n",
       " [0.26, 0.3, 0],\n",
       " [2.1, 0.54, 0],\n",
       " [1.22, 0.27, 0],\n",
       " [0.8200000000000001, 0.05, 0],\n",
       " [1.01, 1.99, 1],\n",
       " [1.1400000000000001, 0.62, 0],\n",
       " [0.21, 0.59, 0],\n",
       " [0.05, 2.7800000000000002, 0],\n",
       " [1.23, 1.5, 1],\n",
       " [1.55, 0.25, 0],\n",
       " [2.05, 0.31, 0],\n",
       " [0.53, 1.9100000000000001, 1],\n",
       " [0.64, 0.15, 0],\n",
       " [0.8200000000000001, 1.96, 1],\n",
       " [0.88, 1.32, 1],\n",
       " [1.4000000000000001, 0.67, 0],\n",
       " [0.41000000000000003, 2.27, 1],\n",
       " [0.97, 0.35000000000000003, 0],\n",
       " [0.89, 0.66, 0],\n",
       " [0.61, 0.48, 0],\n",
       " [1.21, 1.25, 1],\n",
       " [0.16, 2.6, 1],\n",
       " [0.34, 2.17, 1],\n",
       " [0.07, 1.04, 0],\n",
       " [1.25, 1.09, 1],\n",
       " [0.36, 2.41, 1],\n",
       " [1.4000000000000001, 0.67, 0],\n",
       " [0.25, 1.4000000000000001, 0],\n",
       " [1.36, 0.28, 0],\n",
       " [1.08, 0.4, 0],\n",
       " [1.41, 0.81, 0],\n",
       " [1.48, 0.04, 0],\n",
       " [0.02, 1.4000000000000001, 0],\n",
       " [1.67, 0.59, 0],\n",
       " [1.73, 1.07, 1],\n",
       " [1.81, 0.62, 0],\n",
       " [2.42, 0.37, 0],\n",
       " [2.13, 0.23, 0],\n",
       " [1.34, 0.81, 1],\n",
       " [1.24, 1.35, 1],\n",
       " [0.09, 0.88, 0],\n",
       " [0.8300000000000001, 1.96, 1],\n",
       " [0.8, 0.42, 0],\n",
       " [0.09, 2.63, 0],\n",
       " [1.12, 0.75, 0],\n",
       " [1.77, 1.06, 1],\n",
       " [0.12, 0.86, 0],\n",
       " [1.57, 0.6, 0],\n",
       " [0.14, 1.52, 0],\n",
       " [1.42, 0.16, 0]]"
      ]
     },
     "execution_count": 81,
     "metadata": {},
     "output_type": "execute_result"
    }
   ],
   "source": [
    "# Vertices\n",
    "a = [0, 0]\n",
    "b = [0.01, 0]\n",
    "c = [0, 0.01]\n",
    "\n",
    "# Generate concentrations\n",
    "computed_concentrations = to_concentration(a, b, c, example_data)\n",
    "computed_concentrations"
   ]
  },
  {
   "attachments": {},
   "cell_type": "markdown",
   "metadata": {},
   "source": [
    "Now it's in the form of a problem that we already solved in the section on Logistic Regressions. We merely have to use the functions that we defined there to obtain the results by Log transforming the data and obtaining the logistic regression parameters."
   ]
  },
  {
   "attachments": {},
   "cell_type": "markdown",
   "metadata": {},
   "source": [
    "**TRY IT:**  Starting with the `computed_concentration` variable defined above as the input, use the function from the Logistic Regression section to obtain the equilibrium constant.  You should obtain nearly the same result as above; the difference results from the finite precision of the dispense volumes that we introduced with `math.floor`."
   ]
  },
  {
   "attachments": {},
   "cell_type": "markdown",
   "metadata": {},
   "source": [
    "### Performing your own experiments in the laboratory"
   ]
  },
  {
   "attachments": {},
   "cell_type": "markdown",
   "metadata": {},
   "source": [
    "You've now practiced all of the basic skills that you need to generate experiment plans and process the results for the laboratory experiment.  To recap, the steps are:"
   ]
  },
  {
   "attachments": {},
   "cell_type": "markdown",
   "metadata": {},
   "source": [
    "1. Define the stock solutions you will be using in terms of a list of concentration points.\n",
    "2. Define the Convex Hull containing these points\n",
    "3. Generate concentrations for 96 sample experiments\n",
    "4. Convert those concentrations into volume fractions and then scale to the desired total volume of 300 uL to obtain the amount in uL to be dispensed by the robot.\n",
    "5. Export the volumes you computed to a CSV format file.\n",
    "6. Perform the experiments, and store the results in your spreadsheet.\n",
    "7. Read the results into Python notebook with pandas\n",
    "8. Visualize your results.\n",
    "9. Use scikit-learn logistic regression functions to fit equilibrium constant parameters."
   ]
  }
 ],
 "metadata": {
  "kernelspec": {
   "display_name": "Python 3.10.1 64-bit",
   "language": "python",
   "name": "python3"
  },
  "language_info": {
   "codemirror_mode": {
    "name": "ipython",
    "version": 3
   },
   "file_extension": ".py",
   "mimetype": "text/x-python",
   "name": "python",
   "nbconvert_exporter": "python",
   "pygments_lexer": "ipython3",
   "version": "3.10.1"
  },
  "orig_nbformat": 4,
  "vscode": {
   "interpreter": {
    "hash": "aee8b7b246df8f9039afb4144a1f6fd8d2ca17a180786b69acc140d282b71a49"
   }
  }
 },
 "nbformat": 4,
 "nbformat_minor": 2
}
