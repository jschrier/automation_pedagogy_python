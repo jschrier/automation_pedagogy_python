{
 "cells": [
  {
   "cell_type": "markdown",
   "metadata": {},
   "source": [
    "# Code for File Conversion to Automation Formats"
   ]
  },
  {
   "cell_type": "code",
   "execution_count": 1,
   "metadata": {},
   "outputs": [],
   "source": [
    "# Import libraries\n",
    "import csv"
   ]
  },
  {
   "cell_type": "markdown",
   "metadata": {},
   "source": [
    "### Write to XLS (for Hamilton)"
   ]
  },
  {
   "cell_type": "markdown",
   "metadata": {},
   "source": [
    "**Comment:** We are using a Hamilton NIMBUS with staggered input/outputs, so we define some reordering."
   ]
  },
  {
   "cell_type": "code",
   "execution_count": null,
   "metadata": {},
   "outputs": [],
   "source": [
    "def contains_96_reactions(filename):\n",
    "    '''\n",
    "    Function to see if the file contains 96 reactions\n",
    "\n",
    "    @param file : the file to read\n",
    "    @return bool : true or false if file exists\n",
    "    '''\n",
    "    # Counter set to 0\n",
    "    count = 0\n",
    "    # Try importing the file\n",
    "    try:\n",
    "        with open(filename, 'r') as csvfile:\n",
    "            reader = csv.reader(csvfile)\n",
    "            for row in reader:\n",
    "                count += 1\n",
    "    \n",
    "    except:\n",
    "        print('ERROR: NO FILE EXISTS')\n",
    "        return False\n",
    "\n",
    "    if count == 96:\n",
    "        return True\n",
    "\n",
    "    else:\n",
    "        return False\n",
    "\n",
    "def named_association(names, values):\n",
    "    '''\n",
    "    Function to create dictionary for wells and concentrations\n",
    "\n",
    "    @param names : names of the wells\n",
    "    @param values : volumes to dispense\n",
    "    @return associations : dictionary of key-value pairs\n",
    "    '''\n",
    "    # Initialize dictionary\n",
    "    associations = {}\n",
    "\n",
    "    # Iterate names\n",
    "    for name, value in zip(names, values):\n",
    "\n",
    "        # Set name to volume\n",
    "        associations[name] = value\n",
    "\n",
    "    # return dictionary\n",
    "    return associations\n",
    "\n",
    "def convert_CSV_to_NIMBUS(filename):\n",
    "    '''\n",
    "    Function to convert CSV format to NIMBUS and export it\n",
    "\n",
    "    @param filename : name fo the file to convert\n",
    "    '''"
   ]
  },
  {
   "cell_type": "markdown",
   "metadata": {},
   "source": [
    "### Write to Sidekick file"
   ]
  },
  {
   "cell_type": "code",
   "execution_count": null,
   "metadata": {},
   "outputs": [],
   "source": []
  },
  {
   "cell_type": "markdown",
   "metadata": {},
   "source": [
    "### Write to Serial Port (for Sidekick)"
   ]
  },
  {
   "cell_type": "code",
   "execution_count": null,
   "metadata": {},
   "outputs": [],
   "source": []
  },
  {
   "cell_type": "markdown",
   "metadata": {},
   "source": [
    "## File Conversion Process"
   ]
  },
  {
   "cell_type": "markdown",
   "metadata": {},
   "source": [
    "1. ***Copy this Python notebook to the folder containing the CSV files you wish to convert***, by \"File>Save As...\" to the desired location.\n",
    "2. Check that 96 experiments have been provided in the CSV file by ***running the code below***. (When you do this, it will set up some initialization cells defined in the hidden cells of this notebook.) Any outputs below correspond to files that contain have more or fewer reactions than 96 specified. ***Modify the files accordingly until this returns an empty list before proceeding to step #3***."
   ]
  },
  {
   "cell_type": "code",
   "execution_count": null,
   "metadata": {},
   "outputs": [],
   "source": []
  },
  {
   "cell_type": "markdown",
   "metadata": {},
   "source": [
    "3. ***Run the following code cell***. It will look for every file that ends in \".csv\" in the location where the notebook is located and generate NIMBUS input files (with the \".xls\" file extensions) and Sidekick control instructions (with \".txt\" file extensions); only files that contain 96 reactions will be processed."
   ]
  },
  {
   "cell_type": "code",
   "execution_count": null,
   "metadata": {},
   "outputs": [],
   "source": []
  },
  {
   "cell_type": "markdown",
   "metadata": {},
   "source": [
    "4. Use the files on the robot as desired."
   ]
  },
  {
   "cell_type": "markdown",
   "metadata": {},
   "source": []
  }
 ],
 "metadata": {
  "kernelspec": {
   "display_name": "Python 3.10.1 64-bit",
   "language": "python",
   "name": "python3"
  },
  "language_info": {
   "codemirror_mode": {
    "name": "ipython",
    "version": 3
   },
   "file_extension": ".py",
   "mimetype": "text/x-python",
   "name": "python",
   "nbconvert_exporter": "python",
   "pygments_lexer": "ipython3",
   "version": "3.10.1"
  },
  "orig_nbformat": 4,
  "vscode": {
   "interpreter": {
    "hash": "aee8b7b246df8f9039afb4144a1f6fd8d2ca17a180786b69acc140d282b71a49"
   }
  }
 },
 "nbformat": 4,
 "nbformat_minor": 2
}
