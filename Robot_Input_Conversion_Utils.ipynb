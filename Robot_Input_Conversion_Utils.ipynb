{
 "cells": [
  {
   "cell_type": "markdown",
   "metadata": {},
   "source": [
    "# Code for File Conversion to Automation Formats"
   ]
  },
  {
   "cell_type": "code",
   "execution_count": 18,
   "metadata": {},
   "outputs": [],
   "source": [
    "# Import libraries\n",
    "import csv\n",
    "import os\n",
    "import openpyxl\n",
    "import serial"
   ]
  },
  {
   "cell_type": "markdown",
   "metadata": {},
   "source": [
    "### Write to XLS (for Hamilton)"
   ]
  },
  {
   "cell_type": "markdown",
   "metadata": {},
   "source": [
    "**Comment:** We are using a Hamilton NIMBUS with staggered input/outputs, so we define some reordering."
   ]
  },
  {
   "cell_type": "code",
   "execution_count": null,
   "metadata": {},
   "outputs": [],
   "source": [
    "def contains_96_reactions(filename):\n",
    "    '''\n",
    "    Function to see if the file contains 96 reactions\n",
    "\n",
    "    @param file : the file to read\n",
    "    @return bool : true or false if file exists\n",
    "    '''\n",
    "    # Counter set to 0\n",
    "    count = 0\n",
    "    # Try importing the file\n",
    "    try:\n",
    "        with open(filename, 'r') as csvfile:\n",
    "            reader = csv.reader(csvfile)\n",
    "            for row in reader:\n",
    "                count += 1\n",
    "    \n",
    "    except:\n",
    "        print('ERROR: NO FILE EXISTS')\n",
    "        return False\n",
    "\n",
    "    if count == 96:\n",
    "        return True\n",
    "\n",
    "    else:\n",
    "        return False\n",
    "\n",
    "def named_association(names, values):\n",
    "    '''\n",
    "    Function to create dictionary for wells and concentrations\n",
    "\n",
    "    @param names : names of the wells\n",
    "    @param values : volumes to dispense\n",
    "    @return associations : dictionary of key-value pairs\n",
    "    '''\n",
    "    # Initialize dictionary\n",
    "    associations = {}\n",
    "\n",
    "    # Iterate names\n",
    "    for name, value in zip(names, values):\n",
    "\n",
    "        # Set name to volume\n",
    "        associations[name] = value\n",
    "\n",
    "    # return dictionary\n",
    "    return associations\n",
    "\n",
    "def convert_CSV_to_NIMBUS(filename):\n",
    "    '''\n",
    "    Function to convert CSV format to NIMBUS and export it\n",
    "\n",
    "    @param filename : name fo the file to convert\n",
    "    '''\n",
    "    # Default order\n",
    "    default_well_pos = [''.join([ch, str(i)]) for ch in ['A', 'B', 'C', 'D', 'E', 'F', 'G', 'H'] for i in range(1, 13)]\n",
    "\n",
    "    # Desired order\n",
    "    desired_order = [\n",
    "        'A1', 'C1', 'E1', 'G1', \n",
    "        'B2', 'D2', 'F2', 'H2',\n",
    "        'A3', 'C3', 'E3', 'G3',\n",
    "        'B4', 'D4', 'F4', 'H4',\n",
    "        'A5', 'C5', 'E5', 'G5', \n",
    "        'B6', 'D6', 'F6', 'H6', \n",
    "        'A7', 'C7', 'E7', 'G7',\n",
    "        'B8', 'D8', 'F8', 'H8',\n",
    "        'A9', 'C9', 'E9', 'G9',\n",
    "        'B10', 'D10', 'F10', 'H10',\n",
    "        'A11', 'C11', 'E11', 'G11',\n",
    "        'B12', 'D12', 'F12', 'H12',\n",
    "        'B1', 'D1', 'F1', 'H1',\n",
    "        'A2', 'C2', 'E2', 'G2',\n",
    "        'B3', 'D3', 'F3', 'H3',\n",
    "        'A4', 'C4', 'E4', 'G4', \n",
    "        'B5', 'D5', 'F5', 'H5',\n",
    "        'A6', 'C6', 'E6', 'G6',\n",
    "        'B7', 'D7', 'F7', 'H7', \n",
    "        'A8', 'C8', 'E8', 'G8',\n",
    "        'B9', 'D9', 'F9', 'H9', \n",
    "        'A10', 'C10', 'E10', 'G10',\n",
    "        'B11', 'D11', 'F11', 'H11',\n",
    "        'A12', 'C12', 'E12', 'G12'\n",
    "    ]\n",
    "\n",
    "    # Headers\n",
    "    headers = [\n",
    "        'location',\n",
    "        'stock A (uL)',\n",
    "        'stock B (uL)',\n",
    "        'stock C (uL)'\n",
    "    ]\n",
    "\n",
    "    # Dispense volumes\n",
    "    dispense_volumes = []\n",
    "    with open(filename, 'r') as csvfile:\n",
    "            reader = csv.reader(csvfile)\n",
    "            for row in reader:\n",
    "                dispense_volumes.append([int(i) for i in row])\n",
    "\n",
    "    # Output file\n",
    "    output_file = f'{os.path.splitext(filename)[0]}._nimbus.xls'\n",
    "\n",
    "    # Reorder list\n",
    "    reordered = []\n",
    "    reordered.append(headers)\n",
    "    association = named_association(default_well_pos, dispense_volumes)\n",
    "    for element in desired_order:\n",
    "\n",
    "        # Lookup value and append\n",
    "        reordered.append([\n",
    "            element,\n",
    "            association[element][0],\n",
    "            association[element][1],\n",
    "            association[element][1]\n",
    "        ])\n",
    "\n",
    "    # Export\n",
    "    workbook = openpyxl.Workbook()\n",
    "    sheet = workbook.active\n",
    "\n",
    "    for element in reordered:\n",
    "\n",
    "        sheet.append(element)\n",
    "\n",
    "    workbook.save(output_file)"
   ]
  },
  {
   "cell_type": "markdown",
   "metadata": {},
   "source": [
    "### Write to Sidekick file"
   ]
  },
  {
   "cell_type": "markdown",
   "metadata": {},
   "source": [
    "This file can be sent by serial port to the device"
   ]
  },
  {
   "cell_type": "code",
   "execution_count": 19,
   "metadata": {},
   "outputs": [],
   "source": [
    "def pump_instruction(position, volumes):\n",
    "    '''\n",
    "    Funtion to write pump instructions\n",
    "\n",
    "    @param position : well positions\n",
    "    @param volumes : volume list\n",
    "    '''\n",
    "    # Create instructions\n",
    "    instructions = [''.join(['p',f'{str(element)[0]} ', position, f' {str(element)}']) for element in volumes]\n",
    "\n",
    "    # Return instructions\n",
    "    return instructions\n",
    "\n",
    "def convert_CSV_to_Sidekick(filename):\n",
    "    '''\n",
    "    Function to convert CSV to Sidekick format\n",
    "\n",
    "    @param filename : file to read\n",
    "    '''\n",
    "    # Well positions\n",
    "    default_well_pos = [''.join([ch, str(i)]) for ch in ['A', 'B', 'C', 'D', 'E', 'F', 'G', 'H'] for i in range(1, 13)]\n",
    "\n",
    "    # Dispense volumes\n",
    "    dispense_volumes = []\n",
    "    with open(filename, 'r') as csvfile:\n",
    "            reader = csv.reader(csvfile)\n",
    "            for row in reader:\n",
    "                dispense_volumes.append([i for i in row])\n",
    "\n",
    "    # Output file\n",
    "    output_file = f'{os.path.splitext(filename)[0]}._sidekick.txt'\n",
    "\n",
    "    # Create instructions\n",
    "    commands = [pump_instruction(pos, vol) for pos, vol in zip(default_well_pos, dispense_volumes)]\n",
    "    commands = sum(commands, [])\n",
    "    commands.append('home')\n",
    "    \n",
    "    # Export commands\n",
    "    with open(output_file, 'w') as csvfile:\n",
    "        for row in commands:\n",
    "            csvfile.write(row)"
   ]
  },
  {
   "cell_type": "markdown",
   "metadata": {},
   "source": [
    "### Write to Serial Port (for Sidekick)"
   ]
  },
  {
   "cell_type": "markdown",
   "metadata": {},
   "source": [
    "**Comment:** You can also directly control the sidekick from the serial port. Here's some example code showing how you might do this (We don't do this in the article.)"
   ]
  },
  {
   "cell_type": "code",
   "execution_count": null,
   "metadata": {},
   "outputs": [],
   "source": [
    "def pump(device, position, vA, vB, vC):\n",
    "    '''\n",
    "    Function to control sidekick from serial port\n",
    "\n",
    "    @param device : device to write to\n",
    "    @param position : well positions\n",
    "    @param vA, vB, vC : component volumes\n",
    "    '''\n",
    "    # Create commands\n",
    "    commands = [''.join(['p', f'{str(v)[0]} ', position, str(v)]) for v in [vA, vB, vC]] \n",
    "\n",
    "    # Write command\n",
    "    device.write(commands.encode())\n",
    "\n",
    "def home(device):\n",
    "    '''\n",
    "    Function to write home\n",
    "\n",
    "    @param device : serial to write to\n",
    "    '''\n",
    "    device.write('home'.encode())"
   ]
  },
  {
   "cell_type": "markdown",
   "metadata": {},
   "source": [
    "Open the serial port and do various preparatory work, purging, calibration:"
   ]
  },
  {
   "cell_type": "code",
   "execution_count": null,
   "metadata": {},
   "outputs": [],
   "source": [
    "# Serial port\n",
    "ser = serial.Serial('/dev/tty...')"
   ]
  },
  {
   "cell_type": "markdown",
   "metadata": {},
   "source": [
    "Commands to execute"
   ]
  },
  {
   "cell_type": "code",
   "execution_count": null,
   "metadata": {},
   "outputs": [],
   "source": [
    "# Run code\n",
    "home(ser)\n",
    "pump(ser, instructions)"
   ]
  },
  {
   "cell_type": "markdown",
   "metadata": {},
   "source": [
    "When done..."
   ]
  },
  {
   "cell_type": "code",
   "execution_count": null,
   "metadata": {},
   "outputs": [],
   "source": [
    "ser.close()"
   ]
  },
  {
   "cell_type": "markdown",
   "metadata": {},
   "source": [
    "## File Conversion Process"
   ]
  },
  {
   "cell_type": "markdown",
   "metadata": {},
   "source": [
    "1. ***Copy this Python notebook to the folder containing the CSV files you wish to convert***, by \"File>Save As...\" to the desired location.\n",
    "2. Check that 96 experiments have been provided in the CSV file by ***running the code below***. (When you do this, it will set up some initialization cells defined in the hidden cells of this notebook.) Any outputs below correspond to files that contain have more or fewer reactions than 96 specified. ***Modify the files accordingly until this returns an empty list before proceeding to step #3***."
   ]
  },
  {
   "cell_type": "code",
   "execution_count": null,
   "metadata": {},
   "outputs": [],
   "source": [
    "notebook_directory = os.path.dirname(os.path.abspath(__file__))\n",
    "os.chdir(notebook_directory)"
   ]
  },
  {
   "cell_type": "markdown",
   "metadata": {},
   "source": [
    "3. ***Run the following code cell***. It will look for every file that ends in \".csv\" in the location where the notebook is located and generate NIMBUS input files (with the \".xls\" file extensions) and Sidekick control instructions (with \".txt\" file extensions); only files that contain 96 reactions will be processed."
   ]
  },
  {
   "cell_type": "code",
   "execution_count": null,
   "metadata": {},
   "outputs": [],
   "source": [
    "for filename in os.listdir(notebook_directory):\n",
    "    if filename.endswith(\".csv\"):\n",
    "        file_path = os.path.join(notebook_directory, filename)\n",
    "        convert_CSV_to_NIMBUS(file_path)"
   ]
  },
  {
   "cell_type": "markdown",
   "metadata": {},
   "source": [
    "4. Use the files on the robot as desired."
   ]
  }
 ],
 "metadata": {
  "kernelspec": {
   "display_name": "Python 3.10.1 64-bit",
   "language": "python",
   "name": "python3"
  },
  "language_info": {
   "codemirror_mode": {
    "name": "ipython",
    "version": 3
   },
   "file_extension": ".py",
   "mimetype": "text/x-python",
   "name": "python",
   "nbconvert_exporter": "python",
   "pygments_lexer": "ipython3",
   "version": "3.10.1"
  },
  "orig_nbformat": 4,
  "vscode": {
   "interpreter": {
    "hash": "aee8b7b246df8f9039afb4144a1f6fd8d2ca17a180786b69acc140d282b71a49"
   }
  }
 },
 "nbformat": 4,
 "nbformat_minor": 2
}
