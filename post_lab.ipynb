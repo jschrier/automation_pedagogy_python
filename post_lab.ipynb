{
 "cells": [
  {
   "cell_type": "markdown",
   "metadata": {},
   "source": [
    "# Post-Lab Data Processing"
   ]
  },
  {
   "cell_type": "markdown",
   "metadata": {},
   "source": [
    "## Outline of the Process"
   ]
  },
  {
   "cell_type": "markdown",
   "metadata": {},
   "source": [
    "You have now run the experiments and saved a set of results describing the volume of your three stock solutions and the outcome in a CSV file - each row corresponds to the list {volume of a, volume of b, volume of c, outcome}.  "
   ]
  },
  {
   "cell_type": "markdown",
   "metadata": {},
   "source": [
    "### Questions: What are the steps that you need to take?"
   ]
  },
  {
   "cell_type": "markdown",
   "metadata": {},
   "source": [
    "1. Import the contents of the file to Python with the csv library\n",
    "2. Convert the volumes to concentrations (given the known stock solutions).\n",
    "3. Plot the concentrations to see if it is reasonable.\n",
    "4. Convert concentrations to logarithms.\n",
    "5. Perform a Logistic Regression fit to determine the equilibrium constant.\n",
    "6. Plot the equilibriu, constant to see if it is reasonable:\n",
    "    - Combine the plot of the equilibrium constant with the plot of the data to make sure it is consistent."
   ]
  },
  {
   "cell_type": "markdown",
   "metadata": {},
   "source": [
    "## Import the Results"
   ]
  },
  {
   "cell_type": "markdown",
   "metadata": {},
   "source": [
    "- Save your CSV result file somewhere you can find it on your local computer.\n",
    "- Import it, putting the output into a variable named volume_data:\n",
    "    - You can use the Insert>File... menu option to locate the file (if using VSCode) or if running online by using the *Files* section of the Jupyter site.\n",
    "    - In our example we save the data processing notebook and the CSV file in the same folder, to simplify our reference to it, but this is not strictly necessary."
   ]
  },
  {
   "cell_type": "markdown",
   "metadata": {},
   "source": [
    "### Code:"
   ]
  },
  {
   "cell_type": "code",
   "execution_count": 7,
   "metadata": {},
   "outputs": [
    {
     "data": {
      "text/html": [
       "<div>\n",
       "<style scoped>\n",
       "    .dataframe tbody tr th:only-of-type {\n",
       "        vertical-align: middle;\n",
       "    }\n",
       "\n",
       "    .dataframe tbody tr th {\n",
       "        vertical-align: top;\n",
       "    }\n",
       "\n",
       "    .dataframe thead th {\n",
       "        text-align: right;\n",
       "    }\n",
       "</style>\n",
       "<table border=\"1\" class=\"dataframe\">\n",
       "  <thead>\n",
       "    <tr style=\"text-align: right;\">\n",
       "      <th></th>\n",
       "      <th>a</th>\n",
       "      <th>b</th>\n",
       "      <th>c</th>\n",
       "      <th>outcome</th>\n",
       "    </tr>\n",
       "  </thead>\n",
       "  <tbody>\n",
       "    <tr>\n",
       "      <th>0</th>\n",
       "      <td>11</td>\n",
       "      <td>243</td>\n",
       "      <td>47</td>\n",
       "      <td>0</td>\n",
       "    </tr>\n",
       "    <tr>\n",
       "      <th>1</th>\n",
       "      <td>104</td>\n",
       "      <td>46</td>\n",
       "      <td>150</td>\n",
       "      <td>1</td>\n",
       "    </tr>\n",
       "    <tr>\n",
       "      <th>2</th>\n",
       "      <td>75</td>\n",
       "      <td>17</td>\n",
       "      <td>208</td>\n",
       "      <td>1</td>\n",
       "    </tr>\n",
       "    <tr>\n",
       "      <th>3</th>\n",
       "      <td>96</td>\n",
       "      <td>168</td>\n",
       "      <td>36</td>\n",
       "      <td>0</td>\n",
       "    </tr>\n",
       "    <tr>\n",
       "      <th>4</th>\n",
       "      <td>125</td>\n",
       "      <td>53</td>\n",
       "      <td>122</td>\n",
       "      <td>0</td>\n",
       "    </tr>\n",
       "    <tr>\n",
       "      <th>...</th>\n",
       "      <td>...</td>\n",
       "      <td>...</td>\n",
       "      <td>...</td>\n",
       "      <td>...</td>\n",
       "    </tr>\n",
       "    <tr>\n",
       "      <th>91</th>\n",
       "      <td>18</td>\n",
       "      <td>177</td>\n",
       "      <td>106</td>\n",
       "      <td>1</td>\n",
       "    </tr>\n",
       "    <tr>\n",
       "      <th>92</th>\n",
       "      <td>202</td>\n",
       "      <td>12</td>\n",
       "      <td>86</td>\n",
       "      <td>0</td>\n",
       "    </tr>\n",
       "    <tr>\n",
       "      <th>93</th>\n",
       "      <td>83</td>\n",
       "      <td>157</td>\n",
       "      <td>60</td>\n",
       "      <td>0</td>\n",
       "    </tr>\n",
       "    <tr>\n",
       "      <th>94</th>\n",
       "      <td>134</td>\n",
       "      <td>14</td>\n",
       "      <td>152</td>\n",
       "      <td>0</td>\n",
       "    </tr>\n",
       "    <tr>\n",
       "      <th>95</th>\n",
       "      <td>142</td>\n",
       "      <td>142</td>\n",
       "      <td>16</td>\n",
       "      <td>0</td>\n",
       "    </tr>\n",
       "  </tbody>\n",
       "</table>\n",
       "<p>96 rows × 4 columns</p>\n",
       "</div>"
      ],
      "text/plain": [
       "      a    b    c  outcome\n",
       "0    11  243   47        0\n",
       "1   104   46  150        1\n",
       "2    75   17  208        1\n",
       "3    96  168   36        0\n",
       "4   125   53  122        0\n",
       "..  ...  ...  ...      ...\n",
       "91   18  177  106        1\n",
       "92  202   12   86        0\n",
       "93   83  157   60        0\n",
       "94  134   14  152        0\n",
       "95  142  142   16        0\n",
       "\n",
       "[96 rows x 4 columns]"
      ]
     },
     "execution_count": 7,
     "metadata": {},
     "output_type": "execute_result"
    }
   ],
   "source": [
    "# Import CSV library\n",
    "import pandas as pd\n",
    "\n",
    "# Import the file: change this to your file\n",
    "volume_data = pd.read_csv('example_results.csv', names=['a', 'b', 'c', 'outcome'])\n",
    "\n",
    "# Show volume_data\n",
    "volume_data"
   ]
  },
  {
   "cell_type": "markdown",
   "metadata": {},
   "source": [
    "### Does the result make sense?"
   ]
  },
  {
   "cell_type": "markdown",
   "metadata": {},
   "source": [
    "- volume_data should be a list of 4-member lists (a list of lists).\n",
    "- The last entry of each 4-member list should be a one or a zero, corresponding to the reaction outcome.\n",
    "    - If there are errors, make sure the line including **int(element) for element in row** is present so that each list element is interpreted as an integer, not a string.\n",
    "- Entries should match the results in your CSV file."
   ]
  },
  {
   "cell_type": "markdown",
   "metadata": {},
   "source": [
    "## Convert volumes to concentrations"
   ]
  },
  {
   "cell_type": "markdown",
   "metadata": {},
   "source": [
    "1. Define a function to convert the volumes to concentrations:\n",
    "    - Takes as input the stock solution concentrations used.\n",
    "    - Takes as input a list containing the volumes of a, b, c, and the outcome and the volume_data list.\n",
    "    - Returns as output a list of lists containing the concentration of Pb<sup>2+</sup> and I<sup>-</sup> and the outcome.\n",
    "2. Define variables that store your stock solutions composition.\n",
    "3. Apply the function to your volume_data list and save the result in a new variable: concentration_data."
   ]
  },
  {
   "cell_type": "markdown",
   "metadata": {},
   "source": [
    "In the pre-lab worksheet, we defined a function to perform this process.  The below is a slight variation which divides by the total volume of your pipetting instruction."
   ]
  },
  {
   "cell_type": "code",
   "execution_count": 10,
   "metadata": {},
   "outputs": [],
   "source": [
    "def to_concentration(a, b, c, data):\n",
    "    '''\n",
    "    @param a : water component\n",
    "    @param b : The PbSO4 component\n",
    "    @param c : The KI component\n",
    "\n",
    "    @return concentrations : concentration list\n",
    "    '''\n",
    "    # Iterate elements and convert\n",
    "    concentrations = []\n",
    "    for idx, row in data.iterrows():\n",
    "\n",
    "        # Save total volume\n",
    "        total_volume = sum(row)\n",
    "\n",
    "        # Append concentrations to list\n",
    "        concentrations.append(\n",
    "            [(a[0] * row[0] + b[0] * row[1] + c[0] * row[2]) / total_volume,\n",
    "            (a[1] * row[0] + b[1] * row[1] + c[1] * row[2]) / total_volume,\n",
    "            row[3]]\n",
    "        )\n",
    "\n",
    "    # Return list\n",
    "    return concentrations"
   ]
  },
  {
   "cell_type": "markdown",
   "metadata": {},
   "source": [
    "What else remains?"
   ]
  },
  {
   "cell_type": "markdown",
   "metadata": {},
   "source": [
    "- Define variables describing the concentrations of the stock solutions.\n",
    "- Use the to_concentration function (defined above) to convert each of your volume data back to concentrations."
   ]
  },
  {
   "cell_type": "markdown",
   "metadata": {},
   "source": [
    "### Code:"
   ]
  },
  {
   "cell_type": "code",
   "execution_count": 11,
   "metadata": {},
   "outputs": [
    {
     "data": {
      "text/plain": [
       "[[0.008073089700996678, 0.0015614617940199337, 0],\n",
       " [0.0015282392026578074, 0.0049833887043189366, 1],\n",
       " [0.0005647840531561462, 0.006910299003322259, 1],\n",
       " [0.0056, 0.0012, 0],\n",
       " [0.0017666666666666668, 0.004066666666666666, 0],\n",
       " [0.006245847176079735, 0.002990033222591362, 1],\n",
       " [0.006387959866220736, 0.0015719063545150502, 0],\n",
       " [0.004551495016611296, 0.004750830564784053, 1],\n",
       " [0.005733333333333333, 0.0022, 0],\n",
       " [0.00601328903654485, 0.0037873754152823926, 1],\n",
       " [0.0024333333333333334, 0.0028666666666666667, 0],\n",
       " [0.0048172757475083055, 0.003920265780730897, 1],\n",
       " [0.006677740863787376, 0.0022591362126245847, 1],\n",
       " [0.006066666666666667, 0.0024333333333333334, 0],\n",
       " [0.0012333333333333332, 0.0031000000000000003, 0],\n",
       " [0.002033333333333333, 0.0011333333333333334, 0],\n",
       " [0.0031561461794019936, 0.004318936877076412, 1],\n",
       " [0.0016943521594684386, 0.008172757475083057, 1],\n",
       " [0.0016279069767441861, 0.007774086378737541, 1],\n",
       " [0.005666666666666666, 0.002, 0],\n",
       " [0.0031229235880398673, 0.0029235880398671096, 0],\n",
       " [0.0005351170568561873, 0.005050167224080268, 0],\n",
       " [0.0029235880398671096, 0.006179401993355482, 1],\n",
       " [0.001, 0.0041, 0],\n",
       " [0.004033333333333333, 0.0014333333333333333, 0],\n",
       " [0.006046511627906977, 0.0011960132890365448, 0],\n",
       " [0.0035333333333333336, 0.00013333333333333334, 0],\n",
       " [0.0013953488372093023, 0.004883720930232558, 1],\n",
       " [0.006200000000000001, 0.0019000000000000002, 0],\n",
       " [0.0031229235880398673, 0.004551495016611296, 1],\n",
       " [0.0077, 0.0009333333333333334, 0],\n",
       " [0.000132890365448505, 0.0015946843853820597, 0],\n",
       " [0.004584717607973422, 0.005249169435215947, 1],\n",
       " [0.0014285714285714286, 0.00611295681063123, 1],\n",
       " [0.00023333333333333336, 0.00043333333333333337, 0],\n",
       " [0.0019666666666666665, 0.0, 0],\n",
       " [0.0056, 0.0015999999999999999, 0],\n",
       " [0.0011627906976744188, 0.00833887043189369, 1],\n",
       " [0.005847176079734219, 0.0033222591362126247, 1],\n",
       " [0.005215946843853821, 0.004318936877076412, 1],\n",
       " [0.0016666666666666668, 0.0031333333333333335, 0],\n",
       " [0.0006, 0.0010666666666666667, 0],\n",
       " [0.0028903654485049834, 0.004750830564784053, 1],\n",
       " [0.0023588039867109634, 0.006245847176079735, 1],\n",
       " [0.009003322259136212, 3.322259136212625e-05, 0],\n",
       " [0.002292358803986711, 0.003754152823920266, 1],\n",
       " [0.0008695652173913044, 0.001003344481605351, 0],\n",
       " [0.0070234113712374585, 0.0018060200668896323, 0],\n",
       " [0.004080267558528428, 0.0009030100334448161, 0],\n",
       " [0.0027333333333333337, 0.0001666666666666667, 0],\n",
       " [0.003344370860927152, 0.006589403973509934, 1],\n",
       " [0.0037873754152823926, 0.0020598006644518274, 0],\n",
       " [0.0007, 0.0019666666666666665, 0],\n",
       " [0.00016722408026755855, 0.009297658862876255, 0],\n",
       " [0.004086378737541529, 0.0049833887043189366, 1],\n",
       " [0.005166666666666667, 0.0008333333333333334, 0],\n",
       " [0.006833333333333333, 0.0010333333333333334, 0],\n",
       " [0.0017666666666666668, 0.006366666666666667, 1],\n",
       " [0.0021333333333333334, 0.0005, 0],\n",
       " [0.0027242524916943523, 0.0065116279069767444, 1],\n",
       " [0.0029235880398671096, 0.004385382059800665, 1],\n",
       " [0.004666666666666667, 0.0022333333333333333, 0],\n",
       " [0.0013621262458471761, 0.007541528239202658, 1],\n",
       " [0.0032333333333333333, 0.0011666666666666668, 0],\n",
       " [0.0029666666666666665, 0.0022, 0],\n",
       " [0.002033333333333333, 0.0015999999999999999, 0],\n",
       " [0.004019933554817275, 0.004152823920265781, 1],\n",
       " [0.00053156146179402, 0.008637873754152824, 1],\n",
       " [0.0011295681063122924, 0.007209302325581395, 1],\n",
       " [0.00023333333333333336, 0.003466666666666667, 0],\n",
       " [0.004152823920265781, 0.003621262458471761, 1],\n",
       " [0.0012, 0.008033333333333333, 1],\n",
       " [0.004651162790697675, 0.0022259136212624585, 0],\n",
       " [0.0008333333333333334, 0.004666666666666667, 0],\n",
       " [0.004533333333333334, 0.0009333333333333334, 0],\n",
       " [0.0036000000000000003, 0.0013333333333333335, 0],\n",
       " [0.004699999999999999, 0.0027, 0],\n",
       " [0.004933333333333333, 0.00013333333333333334, 0],\n",
       " [6.666666666666667e-05, 0.004666666666666667, 0],\n",
       " [0.005566666666666667, 0.0019666666666666665, 0],\n",
       " [0.0057475083056478405, 0.0035548172757475086, 1],\n",
       " [0.006033333333333333, 0.0020666666666666667, 0],\n",
       " [0.00803986710963455, 0.001229235880398671, 0],\n",
       " [0.0070999999999999995, 0.0007666666666666667, 0],\n",
       " [0.004451827242524917, 0.002691029900332226, 1],\n",
       " [0.004105960264900662, 0.004470198675496689, 1],\n",
       " [0.0002990033222591362, 0.0029235880398671096, 0],\n",
       " [0.0027574750830564785, 0.0065116279069767444, 1],\n",
       " [0.002666666666666667, 0.0014, 0],\n",
       " [0.0003, 0.008766666666666666, 0],\n",
       " [0.0037333333333333337, 0.0025, 0],\n",
       " [0.005860927152317881, 0.0035099337748344373, 1],\n",
       " [0.00039999999999999996, 0.0028666666666666667, 0],\n",
       " [0.005233333333333334, 0.002, 0],\n",
       " [0.0004666666666666667, 0.005066666666666666, 0],\n",
       " [0.004733333333333333, 0.0005333333333333334, 0]]"
      ]
     },
     "execution_count": 11,
     "metadata": {},
     "output_type": "execute_result"
    }
   ],
   "source": [
    "# Stock concentrations\n",
    "a = [0, 0]\n",
    "b = [0.01, 0]\n",
    "c = [0, 0.01]\n",
    "\n",
    "# Apply the function to volume data\n",
    "concentration_data = to_concentration(a, b, c, volume_data)\n",
    "\n",
    "# Show concentration data\n",
    "concentration_data"
   ]
  },
  {
   "cell_type": "markdown",
   "metadata": {},
   "source": [
    "### Does the result make sense?"
   ]
  },
  {
   "cell_type": "markdown",
   "metadata": {},
   "source": [
    "- concentration_data should be a list of 3-member lists (a list of lists).\n",
    "- The last entry of each 3-member list should be a 1 or 0, corresponding to reaction outcome.\n",
    "- Concentrations (the first two entries in each 3-member list) should be positive numbers.\n",
    "Concentratinos should be less than 0.01M in each species (i.e. the concentration of the stock solutions you made)."
   ]
  },
  {
   "cell_type": "markdown",
   "metadata": {},
   "source": [
    "## Plot the Concentrations"
   ]
  },
  {
   "cell_type": "markdown",
   "metadata": {},
   "source": [
    "Key ideas:"
   ]
  },
  {
   "cell_type": "markdown",
   "metadata": {},
   "source": [
    "- Divide the samples into two groups, based upon the value of the third term in the entry.\n",
    "- Use Matplotlib to plot the results.\n",
    "- Play with the plot options to display the data the way that you want.\n",
    "- Save the result into variable **point_plot**."
   ]
  },
  {
   "cell_type": "markdown",
   "metadata": {},
   "source": [
    "This can be somewhat tricky, so we have explored different ways to proceed:"
   ]
  },
  {
   "cell_type": "markdown",
   "metadata": {},
   "source": [
    "### Version 1:"
   ]
  },
  {
   "cell_type": "markdown",
   "metadata": {},
   "source": [
    "Use Python list comprehension to save a separate list of colors and use that list as an input to scatter."
   ]
  },
  {
   "cell_type": "code",
   "execution_count": 12,
   "metadata": {},
   "outputs": [
    {
     "data": {
      "image/png": "[encoded data removed]",
      "text/plain": [
       "<Figure size 432x288 with 1 Axes>"
      ]
     },
     "metadata": {
      "needs_background": "light"
     },
     "output_type": "display_data"
    }
   ],
   "source": [
    "# Import matplotlib\n",
    "import matplotlib.pyplot as plt\n",
    "\n",
    "# Save x and y coordinates\n",
    "x_coords = [point[0] for point in concentration_data]\n",
    "y_coords = [point[1] for point in concentration_data]\n",
    "colors = ['red' if point[2] == 1 else 'black' for point in concentration_data]\n",
    "\n",
    "# Plot data\n",
    "plt.scatter(x_coords, y_coords, c=colors)\n",
    "plt.xlabel('$Pb^{2+}$')\n",
    "plt.ylabel('$I^-$')\n",
    "plt.show()"
   ]
  },
  {
   "cell_type": "markdown",
   "metadata": {},
   "source": [
    "### Version 2:"
   ]
  },
  {
   "cell_type": "markdown",
   "metadata": {},
   "source": [
    "Define a function that creates two lists of x and y coordinates. Plot them in separate lines of code with different colors."
   ]
  },
  {
   "cell_type": "code",
   "execution_count": 17,
   "metadata": {},
   "outputs": [
    {
     "data": {
      "image/png": "[encoded data removed]",
      "text/plain": [
       "<Figure size 432x288 with 1 Axes>"
      ]
     },
     "metadata": {
      "needs_background": "light"
     },
     "output_type": "display_data"
    }
   ],
   "source": [
    "def separate_points(data):\n",
    "    '''\n",
    "    @param data : the data to separate\n",
    "    @return x_1, y_1, x_2, y_2 : lists for different outcomes\n",
    "    '''\n",
    "    # Define lists\n",
    "    x_1 = []\n",
    "    y_1 = []\n",
    "    x_2 = []\n",
    "    y_2 = []\n",
    "\n",
    "    # Iterate through data\n",
    "    for element in data:\n",
    "\n",
    "        # Conditional list separation\n",
    "        if element[2] == 1:\n",
    "            x_1.append(element[0])\n",
    "            y_1.append(element[1])\n",
    "        \n",
    "        else:\n",
    "            x_2.append(element[0])\n",
    "            y_2.append(element[1])\n",
    "\n",
    "    # Return lists\n",
    "    return x_1, y_1, x_2, y_2\n",
    "\n",
    "# Use function to separate lists\n",
    "x_red, y_red, x_black, y_black = separate_points(concentration_data)\n",
    "\n",
    "# Plot\n",
    "plt.scatter(x_red, y_red, c='red')\n",
    "plt.scatter(x_black, y_black, c='black')\n",
    "plt.xlabel('$Pb^{2+}$')\n",
    "plt.ylabel('$I^-$')\n",
    "plt.show()"
   ]
  },
  {
   "cell_type": "markdown",
   "metadata": {},
   "source": [
    "## Convert to Log-Concentrations"
   ]
  },
  {
   "cell_type": "markdown",
   "metadata": {},
   "source": [
    "Now we need to convert from {[Pb], [I], outcome} to the constrained logarithmic form you explored in the pre-lab Exercise.\n",
    "\n",
    "Write a function to perform the transformation for one entry, and then apply it to all the entries.  Save the results into the variable **log_data**."
   ]
  },
  {
   "cell_type": "markdown",
   "metadata": {},
   "source": [
    "### Code:"
   ]
  },
  {
   "cell_type": "markdown",
   "metadata": {},
   "source": [
    "Warning: It is possible following will fail because one of the entries requires taking the logarithm of zero! This will likely cause an error:"
   ]
  },
  {
   "cell_type": "code",
   "execution_count": 18,
   "metadata": {},
   "outputs": [],
   "source": [
    "# Import numpy\n",
    "import numpy as np\n",
    "\n",
    "def constrained_transform(data):\n",
    "    '''\n",
    "    Function to transform our data to fit one free parameter\n",
    "\n",
    "    @param data : the data to transform\n",
    "    @return data : transformed data\n",
    "    '''\n",
    "    # Iterate through data list\n",
    "    new_data = []\n",
    "    for element in data:\n",
    "\n",
    "        # Transform\n",
    "        element = [1 * np.log(element[0]) + 2 * np.log(element[1]), element[2]]\n",
    "        new_data.append(element)\n",
    "\n",
    "    # Return data\n",
    "    return new_data"
   ]
  },
  {
   "cell_type": "code",
   "execution_count": 19,
   "metadata": {},
   "outputs": [
    {
     "name": "stderr",
     "output_type": "stream",
     "text": [
      "/var/folders/p3/yqj3d7fs1n50f6vfb0qqlvj80000gn/T/ipykernel_64092/2744509035.py:16: RuntimeWarning: divide by zero encountered in log\n",
      "  element = [1 * np.log(element[0]) + 2 * np.log(element[1]), element[2]]\n"
     ]
    },
    {
     "data": {
      "text/plain": [
       "[[-17.743484705450236, 0],\n",
       " [-17.086929367529294, 1],\n",
       " [-17.42855184875205, 1],\n",
       " [-18.635856125617398, 0],\n",
       " [-17.348523978914244, 0],\n",
       " [-16.70078004872042, 1],\n",
       " [-17.964272646669585, 0],\n",
       " [-16.091171165862963, 1],\n",
       " [-17.400054021066573, 0],\n",
       " [-16.265947424156085, 1],\n",
       " [-17.72770394827747, 0],\n",
       " [-16.418738360858995, 1],\n",
       " [-17.19452103379961, 1],\n",
       " [-17.1419324125593, 0],\n",
       " [-18.25074108298214, 0],\n",
       " [-19.763263068527245, 0],\n",
       " [-16.647895559699197, 1],\n",
       " [-15.994352647621849, 1],\n",
       " [-16.13437882338487, 1],\n",
       " [-17.60237042043841, 0],\n",
       " [-17.438872940984485, 0],\n",
       " [-18.109692882266703, 0],\n",
       " [-16.00801119030629, 1],\n",
       " [-17.901291889525886, 0],\n",
       " [-18.60866720494901, 0],\n",
       " [-18.56579678822189, 0],\n",
       " [-23.49083016558103, 0],\n",
       " [-17.21830656037006, 1],\n",
       " [-17.615008772550574, 0],\n",
       " [-16.553584718284647, 1],\n",
       " [-18.820031251060676, 0],\n",
       " [-21.80814496927523, 0],\n",
       " [-15.884397600999762, 1],\n",
       " [-16.745769721299368, 1],\n",
       " [-23.85104911795449, 0],\n",
       " [-inf, 0],\n",
       " [-18.060491980713838, 0],\n",
       " [-16.33058741245792, 1],\n",
       " [-16.556016985196564, 1],\n",
       " [-16.145526645951428, 1],\n",
       " [-17.928245411964724, 0],\n",
       " [-21.10501441843726, 0],\n",
       " [-16.545243973036506, 1],\n",
       " [-16.201277549509687, 1],\n",
       " [-25.334722531331202, 0],\n",
       " [-17.24795921018896, 1],\n",
       " [-20.85634997679054, 0],\n",
       " [-17.591765654290317, 0],\n",
       " [-19.52114650139442, 0],\n",
       " [-23.30126290980042, 0],\n",
       " [-15.745061443798638, 1],\n",
       " [-17.946374133726223, 0],\n",
       " [-19.727260656398016, 0],\n",
       " [-18.05216113832096, 0],\n",
       " [-16.103386408645974, 1],\n",
       " [-19.44568121527723, 0],\n",
       " [-18.735873593824177, 0],\n",
       " [-16.452019212287496, 1],\n",
       " [-21.351874496368787, 0],\n",
       " [-15.973892786485614, 1],\n",
       " [-16.693900692559954, 1],\n",
       " [-17.57583032054164, 0],\n",
       " [-16.37336925054379, 1],\n",
       " [-19.241450880450667, 0],\n",
       " [-18.058912128147888, 0],\n",
       " [-19.073582095943785, 0],\n",
       " [-16.484423332009555, 1],\n",
       " [-17.042889367940063, 1],\n",
       " [-16.65068612051382, 1],\n",
       " [-19.69216603459482, 0],\n",
       " [-16.725831850450312, 1],\n",
       " [-16.373745176495458, 1],\n",
       " [-17.585813690819663, 0],\n",
       " [-17.824697311846066, 0],\n",
       " [-19.349794075846418, 0],\n",
       " [-18.866967846580785, 0],\n",
       " [-17.189199782209833, 0],\n",
       " [-23.157056985928982, 0],\n",
       " [-20.350425956154325, 0],\n",
       " [-17.653789281704682, 0],\n",
       " [-16.437892088789308, 1],\n",
       " [-17.474092180576868, 0],\n",
       " [-18.226067800765765, 0],\n",
       " [-19.294577384365155, 0],\n",
       " [-17.250103242915113, 1],\n",
       " [-16.315960487606986, 1],\n",
       " [-19.78494314591827, 0],\n",
       " [-15.961771425953268, 1],\n",
       " [-19.06949211069226, 0],\n",
       " [-17.585325340241127, 0],\n",
       " [-17.57338288356516, 0],\n",
       " [-16.44376368929092, 1],\n",
       " [-19.53325673963786, 0],\n",
       " [-17.681923052140366, 0],\n",
       " [-18.240039610625068, 0],\n",
       " [-20.425853479852055, 0]]"
      ]
     },
     "execution_count": 19,
     "metadata": {},
     "output_type": "execute_result"
    }
   ],
   "source": [
    "# Apply constrained transform to notebook\n",
    "log_data = constrained_transform(concentration_data)\n",
    "\n",
    "# Show data\n",
    "log_data"
   ]
  },
  {
   "cell_type": "markdown",
   "metadata": {},
   "source": [
    "If you encounter this error, you can fix it by either manually removing the entry, or by writing a function that removes indeterminate values from the list."
   ]
  },
  {
   "cell_type": "code",
   "execution_count": 41,
   "metadata": {},
   "outputs": [],
   "source": [
    "def delete_cases(data):\n",
    "    '''\n",
    "    Function to remove error-inducing instances\n",
    "\n",
    "    @param data : data list\n",
    "    @param new_data : data with problems removed\n",
    "    '''\n",
    "    # New data list\n",
    "    new_data = []\n",
    "\n",
    "    # Iterate through data and only save valid cases\n",
    "    for element in data:\n",
    "\n",
    "        if element[0] != 0 and element[1] != 0:\n",
    "            new_data.append(element)\n",
    "        \n",
    "        else:\n",
    "            continue\n",
    "\n",
    "    # Return new data\n",
    "    return new_data"
   ]
  },
  {
   "cell_type": "code",
   "execution_count": 42,
   "metadata": {},
   "outputs": [
    {
     "data": {
      "text/plain": [
       "[[-17.743484705450236, 0],\n",
       " [-17.086929367529294, 1],\n",
       " [-17.42855184875205, 1],\n",
       " [-18.635856125617398, 0],\n",
       " [-17.348523978914244, 0],\n",
       " [-16.70078004872042, 1],\n",
       " [-17.964272646669585, 0],\n",
       " [-16.091171165862963, 1],\n",
       " [-17.400054021066573, 0],\n",
       " [-16.265947424156085, 1],\n",
       " [-17.72770394827747, 0],\n",
       " [-16.418738360858995, 1],\n",
       " [-17.19452103379961, 1],\n",
       " [-17.1419324125593, 0],\n",
       " [-18.25074108298214, 0],\n",
       " [-19.763263068527245, 0],\n",
       " [-16.647895559699197, 1],\n",
       " [-15.994352647621849, 1],\n",
       " [-16.13437882338487, 1],\n",
       " [-17.60237042043841, 0],\n",
       " [-17.438872940984485, 0],\n",
       " [-18.109692882266703, 0],\n",
       " [-16.00801119030629, 1],\n",
       " [-17.901291889525886, 0],\n",
       " [-18.60866720494901, 0],\n",
       " [-18.56579678822189, 0],\n",
       " [-23.49083016558103, 0],\n",
       " [-17.21830656037006, 1],\n",
       " [-17.615008772550574, 0],\n",
       " [-16.553584718284647, 1],\n",
       " [-18.820031251060676, 0],\n",
       " [-21.80814496927523, 0],\n",
       " [-15.884397600999762, 1],\n",
       " [-16.745769721299368, 1],\n",
       " [-23.85104911795449, 0],\n",
       " [-18.060491980713838, 0],\n",
       " [-16.33058741245792, 1],\n",
       " [-16.556016985196564, 1],\n",
       " [-16.145526645951428, 1],\n",
       " [-17.928245411964724, 0],\n",
       " [-21.10501441843726, 0],\n",
       " [-16.545243973036506, 1],\n",
       " [-16.201277549509687, 1],\n",
       " [-25.334722531331202, 0],\n",
       " [-17.24795921018896, 1],\n",
       " [-20.85634997679054, 0],\n",
       " [-17.591765654290317, 0],\n",
       " [-19.52114650139442, 0],\n",
       " [-23.30126290980042, 0],\n",
       " [-15.745061443798638, 1],\n",
       " [-17.946374133726223, 0],\n",
       " [-19.727260656398016, 0],\n",
       " [-18.05216113832096, 0],\n",
       " [-16.103386408645974, 1],\n",
       " [-19.44568121527723, 0],\n",
       " [-18.735873593824177, 0],\n",
       " [-16.452019212287496, 1],\n",
       " [-21.351874496368787, 0],\n",
       " [-15.973892786485614, 1],\n",
       " [-16.693900692559954, 1],\n",
       " [-17.57583032054164, 0],\n",
       " [-16.37336925054379, 1],\n",
       " [-19.241450880450667, 0],\n",
       " [-18.058912128147888, 0],\n",
       " [-19.073582095943785, 0],\n",
       " [-16.484423332009555, 1],\n",
       " [-17.042889367940063, 1],\n",
       " [-16.65068612051382, 1],\n",
       " [-19.69216603459482, 0],\n",
       " [-16.725831850450312, 1],\n",
       " [-16.373745176495458, 1],\n",
       " [-17.585813690819663, 0],\n",
       " [-17.824697311846066, 0],\n",
       " [-19.349794075846418, 0],\n",
       " [-18.866967846580785, 0],\n",
       " [-17.189199782209833, 0],\n",
       " [-23.157056985928982, 0],\n",
       " [-20.350425956154325, 0],\n",
       " [-17.653789281704682, 0],\n",
       " [-16.437892088789308, 1],\n",
       " [-17.474092180576868, 0],\n",
       " [-18.226067800765765, 0],\n",
       " [-19.294577384365155, 0],\n",
       " [-17.250103242915113, 1],\n",
       " [-16.315960487606986, 1],\n",
       " [-19.78494314591827, 0],\n",
       " [-15.961771425953268, 1],\n",
       " [-19.06949211069226, 0],\n",
       " [-17.585325340241127, 0],\n",
       " [-17.57338288356516, 0],\n",
       " [-16.44376368929092, 1],\n",
       " [-19.53325673963786, 0],\n",
       " [-17.681923052140366, 0],\n",
       " [-18.240039610625068, 0],\n",
       " [-20.425853479852055, 0]]"
      ]
     },
     "execution_count": 42,
     "metadata": {},
     "output_type": "execute_result"
    }
   ],
   "source": [
    "# Delete cases\n",
    "trimmed_concentration_data = delete_cases(concentration_data)\n",
    "\n",
    "# Apply constrained transform to notebook\n",
    "log_data = constrained_transform(trimmed_concentration_data)\n",
    "\n",
    "# Show data\n",
    "log_data"
   ]
  },
  {
   "cell_type": "markdown",
   "metadata": {},
   "source": [
    "## Fit the Logistic Regression Model"
   ]
  },
  {
   "cell_type": "markdown",
   "metadata": {},
   "source": [
    "Follow the example given in the pre-lab notebook:"
   ]
  },
  {
   "cell_type": "markdown",
   "metadata": {},
   "source": [
    "1. Use statsmodels to fit the log_data values into a variable constrained_model.\n",
    "2. Extract the parameters.\n",
    "3. Normalize the extracted parameters\n",
    "4. Compute *K*<sub>sp</sub> = *e*<sup>-fittedLogParam</sup> and save the result into a variable named Ksp."
   ]
  },
  {
   "cell_type": "markdown",
   "metadata": {},
   "source": [
    "### Code:"
   ]
  },
  {
   "cell_type": "code",
   "execution_count": 43,
   "metadata": {},
   "outputs": [],
   "source": [
    "# Import logistic regression\n",
    "import statsmodels.api as sm\n",
    "import pandas as pd\n",
    "import statsmodels.formula.api as smf\n",
    "\n",
    "# Save data into dataframe\n",
    "transformed_constrained_dataframe = pd.DataFrame(\n",
    "    log_data,\n",
    "    columns=['z', 'outcome']\n",
    ")\n",
    "\n",
    "# Define variables\n",
    "X = transformed_constrained_dataframe['z']\n",
    "X = sm.add_constant(X)\n",
    "y = transformed_constrained_dataframe['outcome']\n",
    "\n",
    "# Initialize model\n",
    "model = sm.GLM(y, X, family=sm.families.Binomial())\n",
    "\n",
    "# Fit model\n",
    "result = model.fit()"
   ]
  },
  {
   "cell_type": "code",
   "execution_count": 44,
   "metadata": {},
   "outputs": [
    {
     "data": {
      "text/plain": [
       "const    187.116041\n",
       "z         10.831921\n",
       "dtype: float64"
      ]
     },
     "execution_count": 44,
     "metadata": {},
     "output_type": "execute_result"
    }
   ],
   "source": [
    "# Save parameters\n",
    "constrained_parameters = result.params\n",
    "\n",
    "# Show parameters\n",
    "constrained_parameters"
   ]
  },
  {
   "cell_type": "code",
   "execution_count": 45,
   "metadata": {},
   "outputs": [
    {
     "data": {
      "text/plain": [
       "3.1461460721994116e-08"
      ]
     },
     "execution_count": 45,
     "metadata": {},
     "output_type": "execute_result"
    }
   ],
   "source": [
    "# Scale parameters\n",
    "scaled_parameters = constrained_parameters / constrained_parameters[1]\n",
    "\n",
    "# Save Ksp\n",
    "Ksp = np.exp(-scaled_parameters[0])\n",
    "\n",
    "# Show Ksp\n",
    "Ksp"
   ]
  },
  {
   "cell_type": "markdown",
   "metadata": {},
   "source": [
    "## Visualize your Results"
   ]
  },
  {
   "cell_type": "markdown",
   "metadata": {},
   "source": [
    "1. Generate a plot of the equilibrium expression, *K*<sub>sp</sub> = [Pb][I]<sup>2</sup> (rearrange the expression so it is of the form [I] = ... and save the resulting plot into varibale equilibrium_plot).\n",
    "2. Combine the equilibrium_plot with your previous concentration plot."
   ]
  },
  {
   "cell_type": "markdown",
   "metadata": {},
   "source": [
    "### Code:"
   ]
  },
  {
   "cell_type": "code",
   "execution_count": 48,
   "metadata": {},
   "outputs": [
    {
     "data": {
      "image/png": "[encoded data removed]",
      "text/plain": [
       "<Figure size 432x288 with 1 Axes>"
      ]
     },
     "metadata": {
      "needs_background": "light"
     },
     "output_type": "display_data"
    }
   ],
   "source": [
    "# Generate Ksp plot x and y\n",
    "ksp_x = np.linspace(0.0001, 0.01, 1000)\n",
    "ksp_y = np.sqrt(Ksp / ksp_x)\n",
    "\n",
    "# Plot data\n",
    "plt.plot(ksp_x, ksp_y)\n",
    "plt.scatter(x_coords, y_coords, c=colors)   # See code above\n",
    "plt.xlabel('$Pb^{2+}$')\n",
    "plt.ylabel('$I^-$')\n",
    "plt.show()"
   ]
  },
  {
   "cell_type": "markdown",
   "metadata": {},
   "source": [
    "You can save the image above by hovering your cursor above the figure and clicking the save icon in the top right corner of the cell output."
   ]
  }
 ],
 "metadata": {
  "kernelspec": {
   "display_name": "Python 3.10.1 64-bit",
   "language": "python",
   "name": "python3"
  },
  "language_info": {
   "codemirror_mode": {
    "name": "ipython",
    "version": 3
   },
   "file_extension": ".py",
   "mimetype": "text/x-python",
   "name": "python",
   "nbconvert_exporter": "python",
   "pygments_lexer": "ipython3",
   "version": "3.10.1"
  },
  "orig_nbformat": 4,
  "vscode": {
   "interpreter": {
    "hash": "aee8b7b246df8f9039afb4144a1f6fd8d2ca17a180786b69acc140d282b71a49"
   }
  }
 },
 "nbformat": 4,
 "nbformat_minor": 2
}
