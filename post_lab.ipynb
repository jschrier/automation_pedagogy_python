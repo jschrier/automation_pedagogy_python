{
 "cells": [
  {
   "cell_type": "markdown",
   "metadata": {},
   "source": [
    "# Post-Lab Data Processing"
   ]
  },
  {
   "cell_type": "markdown",
   "metadata": {},
   "source": [
    "## Outline of the Process"
   ]
  },
  {
   "cell_type": "markdown",
   "metadata": {},
   "source": [
    "You have now run the experiments and saved a set of results describing the volume of your three stock solutions and the outcome in a CSV file - each row corresponds to the list {volume of a, volume of b, volume of c, outcome}.  "
   ]
  },
  {
   "cell_type": "markdown",
   "metadata": {},
   "source": [
    "### Questions: What are the steps that you need to take?"
   ]
  },
  {
   "cell_type": "markdown",
   "metadata": {},
   "source": [
    "1. Import the contents of the file to Python with the csv library\n",
    "2. Convert the volumes to concentrations (given the known stock solutions).\n",
    "3. Plot the concentrations to see if it is reasonable.\n",
    "4. Convert concentrations to logarithms.\n",
    "5. Perform a Logistic Regression fit to determine the equilibrium constant.\n",
    "6. Plot the equilibriu, constant to see if it is reasonable:\n",
    "    - Combine the plot of the equilibrium constant with the plot of the data to make sure it is consistent."
   ]
  },
  {
   "cell_type": "markdown",
   "metadata": {},
   "source": [
    "## Import the Results"
   ]
  },
  {
   "cell_type": "markdown",
   "metadata": {},
   "source": [
    "- Save your CSV result file somewhere you can find it on your local computer.\n",
    "- Import it, putting the output into a variable named volume_data:\n",
    "    - You can use the Insert>File... menu option to locate the file if it is not in a standard place on your computer.\n",
    "    - In our example we save the data processing notebook and the CSV file in the same folder, to simplify our reference to it, but this is not strictly necessary."
   ]
  },
  {
   "cell_type": "markdown",
   "metadata": {},
   "source": [
    "### Code"
   ]
  },
  {
   "cell_type": "code",
   "execution_count": 1,
   "metadata": {},
   "outputs": [
    {
     "data": {
      "text/plain": [
       "[[11, 243, 47, 0],\n",
       " [104, 46, 150, 1],\n",
       " [75, 17, 208, 1],\n",
       " [96, 168, 36, 0],\n",
       " [125, 53, 122, 0],\n",
       " [22, 188, 90, 1],\n",
       " [61, 191, 47, 0],\n",
       " [20, 137, 143, 1],\n",
       " [62, 172, 66, 0],\n",
       " [5, 181, 114, 1],\n",
       " [141, 73, 86, 0],\n",
       " [37, 145, 118, 1],\n",
       " [31, 201, 68, 1],\n",
       " [45, 182, 73, 0],\n",
       " [170, 37, 93, 0],\n",
       " [205, 61, 34, 0],\n",
       " [75, 95, 130, 1],\n",
       " [3, 51, 246, 1],\n",
       " [17, 49, 234, 1],\n",
       " [70, 170, 60, 0],\n",
       " [119, 94, 88, 0],\n",
       " [132, 16, 151, 0],\n",
       " [26, 88, 186, 1],\n",
       " [147, 30, 123, 0],\n",
       " [136, 121, 43, 0],\n",
       " [83, 182, 36, 0],\n",
       " [190, 106, 4, 0],\n",
       " [111, 42, 147, 1],\n",
       " [57, 186, 57, 0],\n",
       " [69, 94, 137, 1],\n",
       " [41, 231, 28, 0],\n",
       " [249, 4, 48, 0],\n",
       " [4, 138, 158, 1],\n",
       " [73, 43, 184, 1],\n",
       " [280, 7, 13, 0],\n",
       " [241, 59, 0, 0],\n",
       " [84, 168, 48, 0],\n",
       " [14, 35, 251, 1],\n",
       " [24, 176, 100, 1],\n",
       " [13, 157, 130, 1],\n",
       " [156, 50, 94, 0],\n",
       " [250, 18, 32, 0],\n",
       " [70, 87, 143, 1],\n",
       " [41, 71, 188, 1],\n",
       " [29, 271, 1, 0],\n",
       " [118, 69, 113, 1],\n",
       " [243, 26, 30, 0],\n",
       " [35, 210, 54, 0],\n",
       " [150, 122, 27, 0],\n",
       " [213, 82, 5, 0],\n",
       " [1, 101, 199, 1],\n",
       " [125, 114, 62, 0],\n",
       " [220, 21, 59, 0],\n",
       " [16, 5, 278, 0],\n",
       " [27, 123, 150, 1],\n",
       " [120, 155, 25, 0],\n",
       " [64, 205, 31, 0],\n",
       " [55, 53, 191, 1],\n",
       " [221, 64, 15, 0],\n",
       " [22, 82, 196, 1],\n",
       " [80, 88, 132, 1],\n",
       " [93, 140, 67, 0],\n",
       " [32, 41, 227, 1],\n",
       " [168, 97, 35, 0],\n",
       " [145, 89, 66, 0],\n",
       " [191, 61, 48, 0],\n",
       " [54, 121, 125, 1],\n",
       " [24, 16, 260, 1],\n",
       " [49, 34, 217, 1],\n",
       " [189, 7, 104, 0],\n",
       " [66, 125, 109, 1],\n",
       " [22, 36, 241, 1],\n",
       " [94, 140, 67, 0],\n",
       " [135, 25, 140, 0],\n",
       " [136, 136, 28, 0],\n",
       " [152, 108, 40, 0],\n",
       " [78, 141, 81, 0],\n",
       " [148, 148, 4, 0],\n",
       " [158, 2, 140, 0],\n",
       " [74, 167, 59, 0],\n",
       " [20, 173, 107, 1],\n",
       " [57, 181, 62, 0],\n",
       " [22, 242, 37, 0],\n",
       " [64, 213, 23, 0],\n",
       " [85, 134, 81, 1],\n",
       " [42, 124, 135, 1],\n",
       " [204, 9, 88, 0],\n",
       " [21, 83, 196, 1],\n",
       " [178, 80, 42, 0],\n",
       " [28, 9, 263, 0],\n",
       " [113, 112, 75, 0],\n",
       " [18, 177, 106, 1],\n",
       " [202, 12, 86, 0],\n",
       " [83, 157, 60, 0],\n",
       " [134, 14, 152, 0],\n",
       " [142, 142, 16, 0]]"
      ]
     },
     "execution_count": 1,
     "metadata": {},
     "output_type": "execute_result"
    }
   ],
   "source": [
    "# Import CSV library\n",
    "import csv\n",
    "\n",
    "# Import the file: change this to your file\n",
    "volume_data = []\n",
    "with open('example_results.csv', 'r') as csvfile:\n",
    "    reader = csv.reader(csvfile)\n",
    "    for row in reader:\n",
    "        volume_data.append([int(element) for element in row])\n",
    "\n",
    "# Show volume_data\n",
    "volume_data"
   ]
  },
  {
   "cell_type": "markdown",
   "metadata": {},
   "source": [
    "### Does the result make sense?"
   ]
  },
  {
   "cell_type": "markdown",
   "metadata": {},
   "source": [
    "- volume_data should be a list of 4-member lists (a list of lists).\n",
    "- The last entry of each 4-member list should be a one or a zero, corresponding to the reaction outcome.\n",
    "    - If there are errors, make sure the line including **int(element) for element in row** is present so that each list element is interpreted as an integer, not a string.\n",
    "- Entries should match the results in your CSV file."
   ]
  },
  {
   "cell_type": "markdown",
   "metadata": {},
   "source": [
    "## Convert volumes to concentrations"
   ]
  },
  {
   "cell_type": "markdown",
   "metadata": {},
   "source": [
    "1. Define a function to convert the volumes to concentrations:\n",
    "    - Takes as input the stock solution concentrations used.\n",
    "    - Takes as input a list containing the volumes of a, b, c, and the outcome and the volume_data list.\n",
    "    - Returns as output a list of lists containing the concentration of Pb<sup>2+</sup> and I<sup>-</sup> and the outcome.\n",
    "2. Define variables that store your stock solutions composition.\n",
    "3. Apply the function to your volume_data list and save the result in a new variable: concentration_data."
   ]
  },
  {
   "cell_type": "markdown",
   "metadata": {},
   "source": [
    "In the pre-lab worksheet, we defined a function to perform this process.  The below is a slight variation which divides by the total volume of your pipetting instruction."
   ]
  },
  {
   "cell_type": "code",
   "execution_count": null,
   "metadata": {},
   "outputs": [],
   "source": []
  }
 ],
 "metadata": {
  "kernelspec": {
   "display_name": "Python 3.10.1 64-bit",
   "language": "python",
   "name": "python3"
  },
  "language_info": {
   "codemirror_mode": {
    "name": "ipython",
    "version": 3
   },
   "file_extension": ".py",
   "mimetype": "text/x-python",
   "name": "python",
   "nbconvert_exporter": "python",
   "pygments_lexer": "ipython3",
   "version": "3.10.1"
  },
  "orig_nbformat": 4,
  "vscode": {
   "interpreter": {
    "hash": "aee8b7b246df8f9039afb4144a1f6fd8d2ca17a180786b69acc140d282b71a49"
   }
  }
 },
 "nbformat": 4,
 "nbformat_minor": 2
}
